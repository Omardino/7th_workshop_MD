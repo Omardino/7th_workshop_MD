{
 "cells": [
  {
   "cell_type": "code",
   "execution_count": null,
   "id": "7b758ef6",
   "metadata": {},
   "outputs": [],
   "source": [
    "import freud\n",
    "import gsd.hoomd\n",
    "import numpy as np\n",
    "import h5py\n",
    "\n",
    "import matplotlib.pyplot as plt\n",
    "from matplotlib.cm import viridis"
   ]
  },
  {
   "cell_type": "code",
   "execution_count": null,
   "id": "d5d9a2d7",
   "metadata": {},
   "outputs": [],
   "source": [
    "#Useful functions for letter\n",
    "def moving_average(x, average_window=10):\n",
    "    num_points = len(x)-average_window\n",
    "    average = []\n",
    "    for i in range(num_points):\n",
    "        average.append(np.mean(x[i:i+average_window]))\n",
    "    return average\n",
    "\n",
    "\n",
    "def get_derivative(x,y):\n",
    "    num_points = len(x)\n",
    "    derivative = []\n",
    "    for i in range(1,num_points):\n",
    "        diff = (y[i]-y[i-1])/(x[i]-x[i-1])\n",
    "        derivative.append(diff)\n",
    "        \n",
    "    return derivative\n",
    "\n",
    "def basic_inline_visual(filename, frame):\n",
    "    with gsd.hoomd.open(filename) as traj:\n",
    "        frame = traj[frame]\n",
    "\n",
    "        figure = plt.figure(figsize=(10,10))\n",
    "        ax = figure.add_subplot(projection='3d')\n",
    "        pos = frame.particles.position\n",
    "        \n",
    "        ax.scatter(pos[:,0],pos[:,1], pos[:,2])"
   ]
  },
  {
   "cell_type": "markdown",
   "id": "78dd041c",
   "metadata": {},
   "source": [
    "In this notebook, we will examine how the RDF changes as a system melts and then use potential energy to identify a phase change."
   ]
  },
  {
   "cell_type": "markdown",
   "id": "983b369b",
   "metadata": {},
   "source": [
    "# The RDF through phase transitions"
   ]
  },
  {
   "cell_type": "markdown",
   "id": "74d20477",
   "metadata": {},
   "source": [
    "We will start by using the basic RDF code from Simple Fluids 1 to visualize what happens as the system melts.\n",
    "\n",
    "The code below will visualize one pressure with stacked RDFs. What happens as you change pressure?"
   ]
  },
  {
   "cell_type": "code",
   "execution_count": null,
   "id": "abee8c3b",
   "metadata": {},
   "outputs": [],
   "source": [
    "n_bins = 100\n",
    "r_max = 4.0\n",
    "all_rdfs = []\n",
    "\n",
    "with gsd.hoomd.open('trajectory_1.0.gsd','r') as traj:\n",
    "    #To simplify, we will only look at every 10 frames\n",
    "    #Remember that the first 10 frames are pressure equilibration\n",
    "    for frame in traj[0:-1:10]:\n",
    "        box = frame.configuration.box\n",
    "        positions = frame.particles.position\n",
    "        rdf = freud.density.RDF(bins = n_bins, r_max = r_max)\n",
    "        rdf.compute((box, positions))\n",
    "        all_rdfs.append(rdf.rdf)\n",
    "\n",
    "x_data = rdf.bin_centers\n",
    "for i in range(len(all_rdfs)):\n",
    "    plt.plot(x_data, all_rdfs[i]+i,color = viridis(i/10) )\n",
    "    \n",
    "plt.xlabel('Distance')\n",
    "plt.ylabel('g(r) (A. U.)')\n",
    "plt.title('Change in RDF with melting')"
   ]
  },
  {
   "cell_type": "markdown",
   "id": "8c1962d7",
   "metadata": {},
   "source": [
    "You can identify phase transitions through the RDF. How would you do that here?"
   ]
  },
  {
   "cell_type": "markdown",
   "id": "1d3304e5",
   "metadata": {},
   "source": [
    "# Identifying Phase Transitions"
   ]
  },
  {
   "cell_type": "markdown",
   "id": "d2f8ee19",
   "metadata": {},
   "source": [
    "Identifying phase changes well is extremely important, as it is highly effected by aspects like heating rate and nucleation. Here, we will identify phase changes through *melting* simulations because a melting transition typically has a much lower energy barrier than crystallization.\n",
    "\n",
    "The easiest way to identify a phase change is through a discontinuity in some thermodynamic quantity. A first-order phase transition like melting will exhibit a large jump in potential energy, heat capacity, volume, and many other properties right at the melting point.\n",
    "\n",
    "Here we will use potential energy to measure the transition."
   ]
  },
  {
   "cell_type": "markdown",
   "id": "f8deef9f",
   "metadata": {},
   "source": [
    "First, we need to load the h5 files that we saved using the h5py utility. We can access specific quantities like this:"
   ]
  },
  {
   "cell_type": "code",
   "execution_count": null,
   "id": "42a75f0a",
   "metadata": {},
   "outputs": [],
   "source": [
    "hdf5_file = h5py.File(name='log_1.0.h5', mode='r')\n",
    "\n",
    "energies = hdf5_file['hoomd-data/md/compute/ThermodynamicQuantities/potential_energy'][:]\n",
    "temperatures = hdf5_file['hoomd-data/md/compute/ThermodynamicQuantities/kinetic_temperature'][:]\n",
    "time = hdf5_file['hoomd-data/Simulation/timestep'][:]"
   ]
  },
  {
   "cell_type": "code",
   "execution_count": null,
   "id": "3adf84cc",
   "metadata": {},
   "outputs": [],
   "source": [
    "plt.figure(figsize = (8,5))\n",
    "plt.scatter(temperatures,energies)\n",
    "plt.xlabel('Temperature (kT)');\n",
    "plt.ylabel('Energy (E)');\n",
    "plt.title('Visualizing a Phase Transition')"
   ]
  },
  {
   "cell_type": "markdown",
   "id": "c0dfc6f3",
   "metadata": {},
   "source": [
    "At what temperature do you estimate the phase transition is taking place?"
   ]
  },
  {
   "cell_type": "markdown",
   "id": "ae3fa554",
   "metadata": {},
   "source": [
    "To determine exactly what temperature this is, we can use a derivative. The maximum of the derivative will be, roughly, the melting point. We will take the derivative with time instead of temperature, because the temperature fluctuates near the melting point and introduces a lot of noise.\n",
    "\n",
    "Note that this is an *extremely* rough measure of the melting temperature. There are other methods to find the melting point, like fitting a function. Or we could fit a peak to the derivative instead of simply taking the maximum. Implementing one of these more correct methods will be an excersise for the end of this session.\n",
    "\n",
    "In the example below, note the extremely high maximum. That's the signature we're watching for."
   ]
  },
  {
   "cell_type": "code",
   "execution_count": null,
   "id": "e565107d",
   "metadata": {},
   "outputs": [],
   "source": [
    "dE = get_derivative(time,energies)\n",
    "dE_maximum = np.argmax(dE)\n",
    "rough_transition_temperature = np.round(temperatures[dE_maximum],2)\n",
    "\n",
    "plt.scatter(time[1:], dE)\n",
    "plt.ylabel('Energy/timestep');\n",
    "plt.xlabel('Timestep');\n",
    "plt.ylabel('Derivative of PE');\n",
    "\n",
    "plt.title('Melting temperature: {}'.format(rough_transition_temperature))"
   ]
  },
  {
   "cell_type": "markdown",
   "id": "f2b50d22",
   "metadata": {},
   "source": [
    "When identifying a phase transition programmatically, it's always a good idea to use a sanity check. For example, plot the RDF directly before and after the phase transition and check that it behaves as you think it should for melting. For instance, it could be that there are multiple phase transitions in one simulation and you have captured a different one."
   ]
  },
  {
   "cell_type": "code",
   "execution_count": null,
   "id": "1c8fa28e",
   "metadata": {},
   "outputs": [],
   "source": [
    "with gsd.hoomd.open('trajectory_1.0.gsd','r') as traj:\n",
    "    liquid_frame = ?\n",
    "    solid_frame = ?\n",
    "\n",
    "rdf = freud.density.RDF(bins = n_bins, r_max = r_max)\n",
    "\n",
    "rdf.compute((liquid_frame.configuration.box, liquid_frame.particles.position))\n",
    "rdf.plot()\n",
    "\n",
    "\n",
    "rdf.compute((solid_frame.configuration.box, solid_frame.particles.position))\n",
    "rdf.plot()"
   ]
  },
  {
   "cell_type": "markdown",
   "id": "79781aba",
   "metadata": {},
   "source": [
    "# Generate a Phase Diagram"
   ]
  },
  {
   "cell_type": "markdown",
   "id": "03a3219b",
   "metadata": {},
   "source": [
    "Now use the simulations you ran to map out a rough coexistence curve for the (Pressure, Temperature) plane."
   ]
  },
  {
   "cell_type": "code",
   "execution_count": null,
   "id": "48bdb171",
   "metadata": {},
   "outputs": [],
   "source": [
    "pressures = np.arange(1.0,6.0)"
   ]
  },
  {
   "cell_type": "code",
   "execution_count": null,
   "id": "166588f6",
   "metadata": {},
   "outputs": [],
   "source": [
    "melting_points = []\n",
    "\n",
    "for pressure in pressures:\n",
    "    hdf5_file = h5py.File(name='log_{}.h5'.format(pressure), mode='r')\n",
    "    energies = hdf5_file['hoomd-data/md/compute/ThermodynamicQuantities/potential_energy'][:]\n",
    "    temperatures = hdf5_file['hoomd-data/md/compute/ThermodynamicQuantities/kinetic_temperature'][:]\n",
    "    time = hdf5_file['hoomd-data/Simulation/timestep'][:]\n",
    "    \n",
    "    #Get the derivative\n",
    "    #Find the maximum and record it"
   ]
  },
  {
   "cell_type": "code",
   "execution_count": null,
   "id": "0c10dfbd",
   "metadata": {},
   "outputs": [],
   "source": [
    "plt.figure(figsize = (5,5))\n",
    "\n",
    "plt.scatter(pressures, melting_points)\n",
    "\n",
    "plt.xlabel('Temperature (kT)')\n",
    "plt.ylabel('Pressure (E/$D^3$)')\n",
    "plt.title('P-T Phase Diagram')\n",
    "plt.ylim(0.5,2.0)"
   ]
  },
  {
   "cell_type": "markdown",
   "id": "0d9691ee",
   "metadata": {},
   "source": [
    "Compare your results to those of your neighbor. What does this tell you about statistical randomness?\n",
    "\n",
    "Now that we have determined a very rough phase diagram, how can you improve the calculation? Brainstorm at least one method (that doesn't involve running more simulations) and implement it.\n",
    "\n",
    "*Hint: the moving_average function implemented at the top of this notebook may be useful. Implemented correctly, it will smooth out fluctuations in the recorded temperature and energy.*"
   ]
  },
  {
   "cell_type": "code",
   "execution_count": null,
   "id": "3442f743",
   "metadata": {},
   "outputs": [],
   "source": []
  }
 ],
 "metadata": {
  "kernelspec": {
   "display_name": "icomse-cpu",
   "language": "python",
   "name": "icomse-cpu"
  },
  "language_info": {
   "codemirror_mode": {
    "name": "ipython",
    "version": 3
   },
   "file_extension": ".py",
   "mimetype": "text/x-python",
   "name": "python",
   "nbconvert_exporter": "python",
   "pygments_lexer": "ipython3",
   "version": "3.10.14"
  }
 },
 "nbformat": 4,
 "nbformat_minor": 5
}
