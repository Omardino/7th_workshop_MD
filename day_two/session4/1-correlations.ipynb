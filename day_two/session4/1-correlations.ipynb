{
 "cells": [
  {
   "cell_type": "markdown",
   "id": "b61b95bc",
   "metadata": {},
   "source": [
    "How can we tell when our systems are equilibrated?\n",
    "\n",
    "What does it mean for samples to be independent?\n",
    "\n",
    "Fourier transform:\n",
    "    - https://www.youtube.com/watch?v=spUNpyF58BY\n",
    "    - https://en.wikipedia.org/wiki/Fourier_transform\n",
    "\n",
    "Autocorrelation:\n",
    "    - https://en.wikipedia.org/wiki/Autocorrelation \n",
    "\n",
    "\n",
    "\n",
    "In this exercise we're going to build our understanding of independent sampling from the bottom up.:\n",
    "- Decorrelation times come from an autocorrelation function\n",
    "- Autocorrelations functions are best calculated with a discrete Fourier transform\n",
    "- Discrete Fourier transforms are fast and easy"
   ]
  },
  {
   "cell_type": "code",
   "execution_count": null,
   "id": "3fb31f8a",
   "metadata": {},
   "outputs": [],
   "source": [
    "import numpy\n",
    "import matplotlib.pyplot as plt\n"
   ]
  },
  {
   "cell_type": "code",
   "execution_count": null,
   "id": "67ea7975",
   "metadata": {},
   "outputs": [],
   "source": [
    "# Imaginary numbers in python\n",
    "\n",
    "# The number 1j = 1*sqrt(-1), and can be used to make complex numbers\n",
    "# exp(1j*x) = cos(x) = j*sin(x)\n",
    "\n",
    "#try it out for yourself:\n",
    "x = \n",
    "print(numpy.exp(1j*x))\n",
    "print(\"({},{}j)\".format(numpy.cos(x), numpy.sin(x)))\n"
   ]
  },
  {
   "cell_type": "code",
   "execution_count": null,
   "id": "2af20119",
   "metadata": {},
   "outputs": [],
   "source": [
    "# The discrete Fourier transform is a sum of complex numbers:\n",
    "#data = numpy.array([ fill,in,the,blanks,please]) #play around with some other arrays\n",
    "data = numpy.array([ 7,1,2,4,4]) #play around with some other arrays\n",
    "n = len(data)\n",
    "mydft = []\n",
    "for k in range(n):\n",
    "    s = 0\n",
    "    for m in range(n):\n",
    "        s += data[m]*numpy.exp(2j*numpy.pi*k*m/n)\n",
    "    mydft.append(s)\n",
    "mydft = numpy.array(mydft)\n",
    "fastdft = numpy.fft.fft(data)\n",
    "\n",
    "print(mydft)\n",
    "print(fastdft) #note that this implementation will be *much* faster for larger array sizes"
   ]
  },
  {
   "cell_type": "code",
   "execution_count": null,
   "id": "ac31c135",
   "metadata": {},
   "outputs": [],
   "source": [
    "#Notice anything about the results of the fft above?\n",
    "#There are some patterns in the numbers- some elements are complex conjugates of each other.\n",
    "#This is because our input array is *real* - it has zeros for all of its imaginary compontents\n",
    "#An all-real dataset imposes *symmetry* constraints on the output of the FFT\n",
    "#We'll be able to see this when we multiply the FFT by its complex conjugate:\n",
    "power = mydft*numpy.conjugate(mydft)\n",
    "plt.plot(power[?::]) #try out excluding the first element\n"
   ]
  },
  {
   "cell_type": "code",
   "execution_count": null,
   "id": "22dd8be1",
   "metadata": {},
   "outputs": [],
   "source": [
    "# Let's take a closer look at this variable \"power\":\n",
    "# we got it by multiplying the FFT(data) by its complex conjugate\n",
    "# resulting in a real-valued array\n",
    "# This array indicates how much each of the harmonics matters when \n",
    "# representing our data as a sum of cosines and sines\n",
    "# The 0th element should just be the sum of the data squared\n",
    "# the 1st encodes for the first harmonic\n",
    "# the 2nd encodes for the second harmonic\n",
    "# ..etc\n",
    "# except that the data after the symmetry point is redundant\n",
    "\n",
    "plt.plot(power)"
   ]
  },
  {
   "cell_type": "code",
   "execution_count": null,
   "id": "ec385cab",
   "metadata": {},
   "outputs": [],
   "source": [
    "# Fourier transforms of real inputs and their inverses can exploit\n",
    "# this symmetry to take up less space and be faster, so we'll use those here.\n",
    "# Here's the same example as above, but with numpy's real dft\n",
    "# Notice the main difference is that the redundant pieces are omitted. \n",
    "\n",
    "ft = numpy.fft.rfft(data)\n",
    "plt.plot(ft*numpy.conjugate(ft))\n",
    "\n"
   ]
  },
  {
   "cell_type": "code",
   "execution_count": null,
   "id": "868d0d87",
   "metadata": {},
   "outputs": [],
   "source": [
    "#OK! So we've got all of the pieces to write our own autocorrelation function:\n",
    "\n",
    "def autocorr(d):\n",
    "    #subtract the average of d from itself\n",
    "    #store the real fast fourier transform of d in a variable ft\n",
    "    #multiply ft by its complex conjugate, and take the inverse real FFT of that product\n",
    "    #normalize this by the length and the variance of d\n",
    "    #return this array, possibly cutting out any redundant data\n",
    "    "
   ]
  },
  {
   "cell_type": "code",
   "execution_count": null,
   "id": "33e97547",
   "metadata": {},
   "outputs": [],
   "source": [
    "xmax = 10000000\n",
    "n = 10000\n",
    "x = numpy.linspace(0,xmax,n)\n",
    "data = 27 * numpy.cos(x/(10*n)) + numpy.sin(x/(2*n))\n",
    "# How many frequencies matter in this dataset? Let's explore with FFT's"
   ]
  },
  {
   "cell_type": "code",
   "execution_count": null,
   "id": "2c232a4a",
   "metadata": {},
   "outputs": [],
   "source": [
    "data = 27 * numpy.exp(-x/(10*n))+rng.standard_normal(len(x)) -442.31\n",
    "# What is the decorrelation time of this dataset?\n"
   ]
  },
  {
   "cell_type": "code",
   "execution_count": null,
   "id": "eeba8298",
   "metadata": {},
   "outputs": [],
   "source": [
    "# How many independent samples are in it?"
   ]
  },
  {
   "cell_type": "code",
   "execution_count": null,
   "id": "e31e4845",
   "metadata": {},
   "outputs": [],
   "source": []
  },
  {
   "cell_type": "code",
   "execution_count": null,
   "id": "5b07d332",
   "metadata": {},
   "outputs": [],
   "source": []
  }
 ],
 "metadata": {
  "kernelspec": {
   "display_name": "Python 3 (ipykernel)",
   "language": "python",
   "name": "python3"
  },
  "language_info": {
   "codemirror_mode": {
    "name": "ipython",
    "version": 3
   },
   "file_extension": ".py",
   "mimetype": "text/x-python",
   "name": "python",
   "nbconvert_exporter": "python",
   "pygments_lexer": "ipython3",
   "version": "3.10.14"
  }
 },
 "nbformat": 4,
 "nbformat_minor": 5
}
