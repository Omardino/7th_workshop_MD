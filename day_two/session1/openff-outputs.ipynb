{
 "cells": [
  {
   "cell_type": "markdown",
   "metadata": {},
   "source": [
    "## Using OpenForce toolkit to parameterize molecules"
   ]
  },
  {
   "cell_type": "code",
   "execution_count": null,
   "metadata": {},
   "outputs": [],
   "source": []
  },
  {
   "cell_type": "code",
   "execution_count": 1,
   "metadata": {},
   "outputs": [],
   "source": [
    "from openff.toolkit import Molecule, Topology, ForceField\n",
    "from openff.interchange import Interchange\n",
    "from openff.units import unit, Quantity\n",
    "import numpy as np"
   ]
  },
  {
   "cell_type": "markdown",
   "metadata": {},
   "source": [
    "Define a molecule via SMILES 1D representation"
   ]
  },
  {
   "cell_type": "code",
   "execution_count": 2,
   "metadata": {},
   "outputs": [
    {
     "data": {
      "image/svg+xml": [
       "<svg xmlns=\"http://www.w3.org/2000/svg\" xmlns:rdkit=\"http://www.rdkit.org/xml\" xmlns:xlink=\"http://www.w3.org/1999/xlink\" version=\"1.1\" baseProfile=\"full\" xml:space=\"preserve\" width=\"500px\" height=\"300px\" viewBox=\"0 0 500 300\">\n",
       "<!-- END OF HEADER -->\n",
       "<rect style=\"opacity:1.0;fill:#FFFFFF;stroke:none\" width=\"500.0\" height=\"300.0\" x=\"0.0\" y=\"0.0\"> </rect>\n",
       "<path class=\"bond-0 atom-0 atom-1\" d=\"M 199.1,143.5 L 214.6,152.4\" style=\"fill:none;fill-rule:evenodd;stroke:#0000FF;stroke-width:2.0px;stroke-linecap:butt;stroke-linejoin:miter;stroke-opacity:1\"/>\n",
       "<path class=\"bond-0 atom-0 atom-1\" d=\"M 214.6,152.4 L 230.0,161.4\" style=\"fill:none;fill-rule:evenodd;stroke:#000000;stroke-width:2.0px;stroke-linecap:butt;stroke-linejoin:miter;stroke-opacity:1\"/>\n",
       "<path class=\"bond-1 atom-1 atom-2\" d=\"M 230.0,161.4 L 229.9,207.4\" style=\"fill:none;fill-rule:evenodd;stroke:#000000;stroke-width:2.0px;stroke-linecap:butt;stroke-linejoin:miter;stroke-opacity:1\"/>\n",
       "<path class=\"bond-1 atom-1 atom-2\" d=\"M 236.9,165.4 L 236.9,203.5\" style=\"fill:none;fill-rule:evenodd;stroke:#000000;stroke-width:2.0px;stroke-linecap:butt;stroke-linejoin:miter;stroke-opacity:1\"/>\n",
       "<path class=\"bond-2 atom-2 atom-3\" d=\"M 229.9,207.4 L 269.8,230.5\" style=\"fill:none;fill-rule:evenodd;stroke:#000000;stroke-width:2.0px;stroke-linecap:butt;stroke-linejoin:miter;stroke-opacity:1\"/>\n",
       "<path class=\"bond-3 atom-3 atom-4\" d=\"M 269.8,230.5 L 309.7,207.6\" style=\"fill:none;fill-rule:evenodd;stroke:#000000;stroke-width:2.0px;stroke-linecap:butt;stroke-linejoin:miter;stroke-opacity:1\"/>\n",
       "<path class=\"bond-3 atom-3 atom-4\" d=\"M 269.8,222.6 L 302.8,203.6\" style=\"fill:none;fill-rule:evenodd;stroke:#000000;stroke-width:2.0px;stroke-linecap:butt;stroke-linejoin:miter;stroke-opacity:1\"/>\n",
       "<path class=\"bond-4 atom-4 atom-5\" d=\"M 309.7,207.6 L 309.8,161.6\" style=\"fill:none;fill-rule:evenodd;stroke:#000000;stroke-width:2.0px;stroke-linecap:butt;stroke-linejoin:miter;stroke-opacity:1\"/>\n",
       "<path class=\"bond-5 atom-5 atom-6\" d=\"M 309.8,161.6 L 270.0,138.4\" style=\"fill:none;fill-rule:evenodd;stroke:#000000;stroke-width:2.0px;stroke-linecap:butt;stroke-linejoin:miter;stroke-opacity:1\"/>\n",
       "<path class=\"bond-5 atom-5 atom-6\" d=\"M 302.9,165.5 L 269.9,146.4\" style=\"fill:none;fill-rule:evenodd;stroke:#000000;stroke-width:2.0px;stroke-linecap:butt;stroke-linejoin:miter;stroke-opacity:1\"/>\n",
       "<path class=\"bond-6 atom-6 atom-7\" d=\"M 270.0,138.4 L 270.1,92.4\" style=\"fill:none;fill-rule:evenodd;stroke:#000000;stroke-width:2.0px;stroke-linecap:butt;stroke-linejoin:miter;stroke-opacity:1\"/>\n",
       "<path class=\"bond-7 atom-7 atom-8\" d=\"M 273.5,90.4 L 258.0,81.4\" style=\"fill:none;fill-rule:evenodd;stroke:#000000;stroke-width:2.0px;stroke-linecap:butt;stroke-linejoin:miter;stroke-opacity:1\"/>\n",
       "<path class=\"bond-7 atom-7 atom-8\" d=\"M 258.0,81.4 L 242.5,72.4\" style=\"fill:none;fill-rule:evenodd;stroke:#FF0000;stroke-width:2.0px;stroke-linecap:butt;stroke-linejoin:miter;stroke-opacity:1\"/>\n",
       "<path class=\"bond-7 atom-7 atom-8\" d=\"M 270.0,96.4 L 254.5,87.4\" style=\"fill:none;fill-rule:evenodd;stroke:#000000;stroke-width:2.0px;stroke-linecap:butt;stroke-linejoin:miter;stroke-opacity:1\"/>\n",
       "<path class=\"bond-7 atom-7 atom-8\" d=\"M 254.5,87.4 L 239.0,78.4\" style=\"fill:none;fill-rule:evenodd;stroke:#FF0000;stroke-width:2.0px;stroke-linecap:butt;stroke-linejoin:miter;stroke-opacity:1\"/>\n",
       "<path class=\"bond-8 atom-7 atom-9\" d=\"M 270.1,92.4 L 284.8,84.0\" style=\"fill:none;fill-rule:evenodd;stroke:#000000;stroke-width:2.0px;stroke-linecap:butt;stroke-linejoin:miter;stroke-opacity:1\"/>\n",
       "<path class=\"bond-8 atom-7 atom-9\" d=\"M 284.8,84.0 L 299.5,75.5\" style=\"fill:none;fill-rule:evenodd;stroke:#FF0000;stroke-width:2.0px;stroke-linecap:butt;stroke-linejoin:miter;stroke-opacity:1\"/>\n",
       "<path class=\"bond-9 atom-6 atom-1\" d=\"M 270.0,138.4 L 230.0,161.4\" style=\"fill:none;fill-rule:evenodd;stroke:#000000;stroke-width:2.0px;stroke-linecap:butt;stroke-linejoin:miter;stroke-opacity:1\"/>\n",
       "<path class=\"bond-10 atom-0 atom-10\" d=\"M 181.3,143.4 L 170.4,149.7\" style=\"fill:none;fill-rule:evenodd;stroke:#0000FF;stroke-width:2.0px;stroke-linecap:butt;stroke-linejoin:miter;stroke-opacity:1\"/>\n",
       "<path class=\"bond-10 atom-0 atom-10\" d=\"M 170.4,149.7 L 159.5,156.0\" style=\"fill:none;fill-rule:evenodd;stroke:#000000;stroke-width:2.0px;stroke-linecap:butt;stroke-linejoin:miter;stroke-opacity:1\"/>\n",
       "<path class=\"bond-11 atom-0 atom-11\" d=\"M 190.2,127.0 L 190.3,115.3\" style=\"fill:none;fill-rule:evenodd;stroke:#0000FF;stroke-width:2.0px;stroke-linecap:butt;stroke-linejoin:miter;stroke-opacity:1\"/>\n",
       "<path class=\"bond-11 atom-0 atom-11\" d=\"M 190.3,115.3 L 190.3,103.5\" style=\"fill:none;fill-rule:evenodd;stroke:#000000;stroke-width:2.0px;stroke-linecap:butt;stroke-linejoin:miter;stroke-opacity:1\"/>\n",
       "<path class=\"bond-12 atom-2 atom-12\" d=\"M 229.9,207.4 L 199.2,225.1\" style=\"fill:none;fill-rule:evenodd;stroke:#000000;stroke-width:2.0px;stroke-linecap:butt;stroke-linejoin:miter;stroke-opacity:1\"/>\n",
       "<path class=\"bond-13 atom-3 atom-13\" d=\"M 269.8,230.5 L 269.7,265.3\" style=\"fill:none;fill-rule:evenodd;stroke:#000000;stroke-width:2.0px;stroke-linecap:butt;stroke-linejoin:miter;stroke-opacity:1\"/>\n",
       "<path class=\"bond-14 atom-4 atom-14\" d=\"M 309.7,207.6 L 340.4,225.4\" style=\"fill:none;fill-rule:evenodd;stroke:#000000;stroke-width:2.0px;stroke-linecap:butt;stroke-linejoin:miter;stroke-opacity:1\"/>\n",
       "<path class=\"bond-15 atom-5 atom-15\" d=\"M 309.8,161.6 L 340.5,143.9\" style=\"fill:none;fill-rule:evenodd;stroke:#000000;stroke-width:2.0px;stroke-linecap:butt;stroke-linejoin:miter;stroke-opacity:1\"/>\n",
       "<path class=\"bond-16 atom-9 atom-16\" d=\"M 310.0,58.1 L 310.0,46.4\" style=\"fill:none;fill-rule:evenodd;stroke:#FF0000;stroke-width:2.0px;stroke-linecap:butt;stroke-linejoin:miter;stroke-opacity:1\"/>\n",
       "<path class=\"bond-16 atom-9 atom-16\" d=\"M 310.0,46.4 L 310.0,34.7\" style=\"fill:none;fill-rule:evenodd;stroke:#000000;stroke-width:2.0px;stroke-linecap:butt;stroke-linejoin:miter;stroke-opacity:1\"/>\n",
       "<path d=\"M 270.0,94.7 L 270.1,92.4 L 270.8,92.0\" style=\"fill:none;stroke:#000000;stroke-width:2.0px;stroke-linecap:butt;stroke-linejoin:miter;stroke-opacity:1;\"/>\n",
       "<path class=\"atom-0\" d=\"M 185.9 128.5 L 192.3 138.9 Q 192.9 139.9, 194.0 141.7 Q 195.0 143.6, 195.0 143.7 L 195.0 128.5 L 197.6 128.5 L 197.6 148.1 L 194.9 148.1 L 188.1 136.7 Q 187.3 135.4, 186.4 133.9 Q 185.6 132.4, 185.3 131.9 L 185.3 148.1 L 182.8 148.1 L 182.8 128.5 L 185.9 128.5 \" fill=\"#0000FF\"/>\n",
       "<path class=\"atom-8\" d=\"M 221.2 69.4 Q 221.2 64.7, 223.6 62.0 Q 225.9 59.4, 230.2 59.4 Q 234.6 59.4, 236.9 62.0 Q 239.2 64.7, 239.2 69.4 Q 239.2 74.1, 236.9 76.8 Q 234.5 79.5, 230.2 79.5 Q 225.9 79.5, 223.6 76.8 Q 221.2 74.1, 221.2 69.4 M 230.2 77.3 Q 233.2 77.3, 234.8 75.3 Q 236.4 73.3, 236.4 69.4 Q 236.4 65.5, 234.8 63.6 Q 233.2 61.6, 230.2 61.6 Q 227.2 61.6, 225.6 63.6 Q 224.0 65.5, 224.0 69.4 Q 224.0 73.3, 225.6 75.3 Q 227.2 77.3, 230.2 77.3 \" fill=\"#FF0000\"/>\n",
       "<path class=\"atom-9\" d=\"M 301.0 69.5 Q 301.0 64.8, 303.3 62.2 Q 305.6 59.6, 310.0 59.6 Q 314.3 59.6, 316.6 62.2 Q 319.0 64.8, 319.0 69.5 Q 319.0 74.3, 316.6 77.0 Q 314.3 79.7, 310.0 79.7 Q 305.7 79.7, 303.3 77.0 Q 301.0 74.3, 301.0 69.5 M 310.0 77.4 Q 313.0 77.4, 314.6 75.5 Q 316.2 73.4, 316.2 69.5 Q 316.2 65.7, 314.6 63.7 Q 313.0 61.8, 310.0 61.8 Q 307.0 61.8, 305.4 63.7 Q 303.8 65.6, 303.8 69.5 Q 303.8 73.5, 305.4 75.5 Q 307.0 77.4, 310.0 77.4 \" fill=\"#FF0000\"/>\n",
       "<path class=\"atom-10\" d=\"M 142.6 151.5 L 145.3 151.5 L 145.3 159.8 L 155.3 159.8 L 155.3 151.5 L 157.9 151.5 L 157.9 171.0 L 155.3 171.0 L 155.3 162.0 L 145.3 162.0 L 145.3 171.0 L 142.6 171.0 L 142.6 151.5 \" fill=\"#000000\"/>\n",
       "<path class=\"atom-11\" d=\"M 182.6 82.5 L 185.3 82.5 L 185.3 90.8 L 195.3 90.8 L 195.3 82.5 L 198.0 82.5 L 198.0 102.0 L 195.3 102.0 L 195.3 93.0 L 185.3 93.0 L 185.3 102.0 L 182.6 102.0 L 182.6 82.5 \" fill=\"#000000\"/>\n",
       "<path class=\"atom-12\" d=\"M 182.4 220.6 L 185.0 220.6 L 185.0 228.9 L 195.0 228.9 L 195.0 220.6 L 197.7 220.6 L 197.7 240.2 L 195.0 240.2 L 195.0 231.1 L 185.0 231.1 L 185.0 240.2 L 182.4 240.2 L 182.4 220.6 \" fill=\"#000000\"/>\n",
       "<path class=\"atom-13\" d=\"M 262.0 266.8 L 264.7 266.8 L 264.7 275.1 L 274.7 275.1 L 274.7 266.8 L 277.3 266.8 L 277.3 286.4 L 274.7 286.4 L 274.7 277.3 L 264.7 277.3 L 264.7 286.4 L 262.0 286.4 L 262.0 266.8 \" fill=\"#000000\"/>\n",
       "<path class=\"atom-14\" d=\"M 341.9 220.9 L 344.5 220.9 L 344.5 229.2 L 354.5 229.2 L 354.5 220.9 L 357.2 220.9 L 357.2 240.5 L 354.5 240.5 L 354.5 231.4 L 344.5 231.4 L 344.5 240.5 L 341.9 240.5 L 341.9 220.9 \" fill=\"#000000\"/>\n",
       "<path class=\"atom-15\" d=\"M 342.1 128.8 L 344.7 128.8 L 344.7 137.1 L 354.7 137.1 L 354.7 128.8 L 357.4 128.8 L 357.4 148.4 L 354.7 148.4 L 354.7 139.4 L 344.7 139.4 L 344.7 148.4 L 342.1 148.4 L 342.1 128.8 \" fill=\"#000000\"/>\n",
       "<path class=\"atom-16\" d=\"M 302.4 13.6 L 305.1 13.6 L 305.1 22.0 L 315.1 22.0 L 315.1 13.6 L 317.7 13.6 L 317.7 33.2 L 315.1 33.2 L 315.1 24.2 L 305.1 24.2 L 305.1 33.2 L 302.4 33.2 L 302.4 13.6 \" fill=\"#000000\"/>\n",
       "</svg>"
      ],
      "text/plain": [
       "<IPython.core.display.SVG object>"
      ]
     },
     "execution_count": 2,
     "metadata": {},
     "output_type": "execute_result"
    }
   ],
   "source": [
    "test_molecule = Molecule.from_smiles(\"Nc1ccccc1C(=O)O\")\n",
    "test_molecule.visualize()"
   ]
  },
  {
   "cell_type": "code",
   "execution_count": 3,
   "metadata": {},
   "outputs": [],
   "source": [
    "# use RDkit to generate a conformer\n",
    "test_molecule.generate_conformers(n_conformers=1)"
   ]
  },
  {
   "cell_type": "code",
   "execution_count": 4,
   "metadata": {},
   "outputs": [],
   "source": [
    "# create the internal representation\n",
    "topology = Topology.from_molecules(test_molecule)\n",
    "\n",
    "# assign a force field\n",
    "sage = ForceField(\"openff-2.2.0.offxml\")\n",
    "\n",
    "#Define the box\n",
    "cubic_box = unit.Quantity(30 * np.eye(3), unit.angstrom)\n",
    "\n",
    "# create the interchange object\n",
    "solute_interchange = Interchange.from_smirnoff(topology=[test_molecule], force_field=sage, box = cubic_box)\n",
    "\n",
    "# approximately minimize energy\n",
    "solute_interchange.minimize()"
   ]
  },
  {
   "cell_type": "code",
   "execution_count": 5,
   "metadata": {},
   "outputs": [],
   "source": [
    "# create gromacs files\n",
    "solute_interchange.to_gro('test_molecule.gro')\n",
    "solute_interchange.to_top('test_molecule.top')"
   ]
  },
  {
   "cell_type": "code",
   "execution_count": 6,
   "metadata": {},
   "outputs": [],
   "source": [
    "# create lammps files\n",
    "solute_interchange.to_lammps('test_molecule.lmp')"
   ]
  },
  {
   "cell_type": "code",
   "execution_count": 7,
   "metadata": {},
   "outputs": [],
   "source": [
    "# create amber files\n",
    "solute_interchange.to_prmtop('test_molecule.prmtop') \n",
    "solute_interchange.to_inpcrd(\"test_molecule.inpcrd\")"
   ]
  },
  {
   "cell_type": "code",
   "execution_count": 8,
   "metadata": {},
   "outputs": [],
   "source": [
    "# create openmm objects\n",
    "openmm_top = solute_interchange.to_openmm()"
   ]
  },
  {
   "cell_type": "code",
   "execution_count": null,
   "metadata": {},
   "outputs": [],
   "source": []
  },
  {
   "cell_type": "markdown",
   "metadata": {},
   "source": [
    "### Solvating the ligand in water"
   ]
  },
  {
   "cell_type": "code",
   "execution_count": 9,
   "metadata": {},
   "outputs": [],
   "source": [
    "# Construct a water molecule\n",
    "water = Molecule.from_smiles(\"O\")\n",
    "water.generate_conformers(n_conformers=1)"
   ]
  },
  {
   "cell_type": "code",
   "execution_count": 10,
   "metadata": {},
   "outputs": [],
   "source": [
    "# Pack the box with an arbitrary number of water\n",
    "n_water = 900\n",
    "\n",
    "from openff.interchange.components._packmol import pack_box\n",
    "packed_topology = pack_box(\n",
    "    molecules=[water],\n",
    "    number_of_copies=[n_water],\n",
    "    solute=Topology.from_molecules(test_molecule),\n",
    "    tolerance=0.5*unit.angstrom,\n",
    "    box_vectors=cubic_box,\n",
    ")"
   ]
  },
  {
   "cell_type": "code",
   "execution_count": null,
   "metadata": {},
   "outputs": [],
   "source": [
    "solvated_interchange = Interchange.from_smirnoff(\n",
    "    force_field=ForceField(\"openff-2.2.0.offxml\",\"opc3.offxml\"),\n",
    "    topology=packed_topology,\n",
    "    box=cubic_box\n",
    ")"
   ]
  },
  {
   "cell_type": "code",
   "execution_count": null,
   "metadata": {},
   "outputs": [],
   "source": [
    "# gromacs files\n",
    "solvated_interchange.to_gro('solvated_molecule.gro')\n",
    "solvated_interchange.to_top('solvated_molecule.top')"
   ]
  },
  {
   "cell_type": "code",
   "execution_count": null,
   "metadata": {},
   "outputs": [],
   "source": [
    "# lammps files\n",
    "solvated_interchange.to_lammps('solvated_molecule.lmp')"
   ]
  },
  {
   "cell_type": "code",
   "execution_count": null,
   "metadata": {},
   "outputs": [],
   "source": [
    "solvated_interchange.to_prmtop('solvated_molecule.prmtop') \n",
    "solvated_interchange.to_inpcrd(\"solvated_molecule.inpcrd\")"
   ]
  },
  {
   "cell_type": "code",
   "execution_count": null,
   "metadata": {},
   "outputs": [],
   "source": []
  }
 ],
 "metadata": {
  "kernelspec": {
   "display_name": "Python 3 (ipykernel)",
   "language": "python",
   "name": "python3"
  },
  "language_info": {
   "codemirror_mode": {
    "name": "ipython",
    "version": 3
   },
   "file_extension": ".py",
   "mimetype": "text/x-python",
   "name": "python",
   "nbconvert_exporter": "python",
   "pygments_lexer": "ipython3",
   "version": "3.10.13"
  }
 },
 "nbformat": 4,
 "nbformat_minor": 2
}
