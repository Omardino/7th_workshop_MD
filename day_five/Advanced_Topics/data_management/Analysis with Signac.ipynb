{
 "cells": [
  {
   "cell_type": "markdown",
   "metadata": {},
   "source": [
    "# Introduction\n",
    "\n",
    "This notebook was originally written for the use of CapeCrystal laboratory at Cornell University. It showcases the software Signac, its uses in data management, and important Signac functions.\n",
    "\n",
    "This notebook is best used in conjunction with tutorials and examples on the Signac documentation, which are much more complete"
   ]
  },
  {
   "cell_type": "code",
   "execution_count": 1,
   "metadata": {},
   "outputs": [],
   "source": [
    "import signac\n",
    "import numpy as np\n",
    "import matplotlib.pyplot as pp"
   ]
  },
  {
   "cell_type": "markdown",
   "metadata": {},
   "source": [
    "# Initializing a Project\n",
    "This process would normally be done in the command line, but you can also do it in Python. Step one is to create a project, giving it a name that is descriptive for you. This will create a signac.rc file to store information about the project. This only needs to be done once."
   ]
  },
  {
   "cell_type": "code",
   "execution_count": 2,
   "metadata": {},
   "outputs": [],
   "source": [
    "project = signac.init_project()"
   ]
  },
  {
   "cell_type": "markdown",
   "metadata": {},
   "source": [
    "You will then initialize jobs by setting their statepoints. There are a number of ways to do this depending on what exactly your data space looks like. In general, a \"statepoint\" should be a set of variables which uniquely identify each separate simulation, and which cannot be changed without fundamentally changing the experiment. For us, common statepoints include parameters for a pair potential, system size N, mole fraction of different particle types, and replica index.\n",
    "You can initialize a job multiple times without changing it, so filling in gaps in a dataspace later is easy. You can always delete jobs or add more."
   ]
  },
  {
   "cell_type": "code",
   "execution_count": 3,
   "metadata": {},
   "outputs": [
    {
     "name": "stderr",
     "output_type": "stream",
     "text": [
      "/Users/rachaelskye/opt/anaconda3/envs/hoomd4/lib/python3.12/site-packages/synced_collections/numpy_utils.py:46: NumpyConversionWarning: Any numpy types provided will be transparently converted to the closest base Python equivalents.\n",
      "  warnings.warn(NUMPY_CONVERSION_WARNING, NumpyConversionWarning)\n"
     ]
    }
   ],
   "source": [
    "replicas = [1,2,3]\n",
    "numbers = np.arange(4,8,1)\n",
    "\n",
    "for r in replicas:\n",
    "    for N in numbers:\n",
    "        statepoint = {\"N\":N,\n",
    "                     \"replica\":r}\n",
    "        \n",
    "        project.open_job(statepoint).init() \n",
    "        #all jobs must have something done to them in order to persist\n",
    "        #this could be running init but it could also be something else like writing a file"
   ]
  },
  {
   "cell_type": "code",
   "execution_count": 22,
   "metadata": {},
   "outputs": [
    {
     "data": {
      "text/plain": [
       "(3.0, 8.0)"
      ]
     },
     "execution_count": 22,
     "metadata": {},
     "output_type": "execute_result"
    },
    {
     "data": {
      "image/png": "[encoded data removed]",
      "text/plain": [
       "<Figure size 640x480 with 1 Axes>"
      ]
     },
     "metadata": {},
     "output_type": "display_data"
    }
   ],
   "source": [
    "ns=[]\n",
    "rs=[]\n",
    "for job in project:\n",
    "    ns.append(job.sp.N)\n",
    "    rs.append(job.sp.replica)\n",
    "\n",
    "pp.scatter(ns,rs, s=200)\n",
    "pp.ylabel('Replica Index')\n",
    "pp.xlabel('N')\n",
    "pp.ylim(0,4)\n",
    "pp.yticks([1,2,3])\n",
    "pp.xlim(3,8)"
   ]
  },
  {
   "cell_type": "markdown",
   "metadata": {},
   "source": [
    "Once initialized, a job is associated with an ID, which is a hash (basically, complex function) of the statepoint dictionary. One statepoint will always have one,identical ID. You cannot change one without changing the other."
   ]
  },
  {
   "cell_type": "code",
   "execution_count": 4,
   "metadata": {},
   "outputs": [
    {
     "name": "stdout",
     "output_type": "stream",
     "text": [
      "cdb4624cc6158e6b3a7100730baacb6a\n"
     ]
    }
   ],
   "source": [
    "job = project.open_job({\"N\":4,\"replica\":1})\n",
    "print(job.id)"
   ]
  },
  {
   "cell_type": "markdown",
   "metadata": {},
   "source": [
    "The statepoint for a job can be accessed with the job.sp command.\n",
    "Data associated with a job that is either 1) changeable, or 2) too complex to want in a statepoint can be written in the job document. A project can be iterated through like it is a list, though note that it won't be sorted."
   ]
  },
  {
   "cell_type": "code",
   "execution_count": 5,
   "metadata": {},
   "outputs": [
    {
     "name": "stdout",
     "output_type": "stream",
     "text": [
      "343\n",
      "125\n",
      "64\n",
      "216\n",
      "216\n",
      "343\n",
      "64\n",
      "125\n",
      "125\n",
      "216\n",
      "343\n",
      "64\n"
     ]
    }
   ],
   "source": [
    "for job in project:\n",
    "    total_particles = job.sp.N ** 3\n",
    "    job.document['total_particles'] = total_particles\n",
    "    print(job.document['total_particles'])"
   ]
  },
  {
   "cell_type": "markdown",
   "metadata": {},
   "source": [
    "After initializing a project, it can be loaded in using the get_project command:\n",
    "\n",
    "Note that you can analyze more than one project at once by using the \"root\" command to specify the directory of each project, and giving them different names to reference"
   ]
  },
  {
   "cell_type": "code",
   "execution_count": 6,
   "metadata": {},
   "outputs": [],
   "source": [
    "project = signac.get_project()\n",
    "#different_project = signac.get_project(root='path_to_directory')"
   ]
  },
  {
   "cell_type": "markdown",
   "metadata": {},
   "source": [
    "# Important Functions"
   ]
  },
  {
   "cell_type": "code",
   "execution_count": 7,
   "metadata": {},
   "outputs": [
    {
     "name": "stdout",
     "output_type": "stream",
     "text": [
      "False\n"
     ]
    }
   ],
   "source": [
    "#the open_job command only works if you input the full statepoint OR an ID\n",
    "job = project.open_job({'N': 5, 'replica': 1})\n",
    "\n",
    "#the isfile command returns whether or not a file exists for a specific job\n",
    "#and is useful for checking completion\n",
    "print(job.isfile('a_file.txt'))"
   ]
  },
  {
   "cell_type": "code",
   "execution_count": 8,
   "metadata": {},
   "outputs": [
    {
     "name": "stdout",
     "output_type": "stream",
     "text": [
      "/Users/rachaelskye/Documents/outreach/icomse/7th_workshop_MD/day_five/Advanced_Topics/data_management/workspace/5eb7a794973dd7f060d00aed3cfb364a/a_file.example\n"
     ]
    }
   ],
   "source": [
    "#The fn or filename command preprends the path to the job's directory to any file\n",
    "#it's critical for loading files for analysis\n",
    "#And is part of why it's good to store files with the same name across all jobs\n",
    "\n",
    "print(job.fn('a_file.example'))"
   ]
  },
  {
   "cell_type": "markdown",
   "metadata": {},
   "source": [
    "Finally, update_statepoint and reset_statepoint let you change the job statepoint. Do NOT do this manually. The job's signac_statepoint.json file and the job id/directory name are linked by what's called a hash. It lets Signac quickly sort and access jobs.  Changing either the file or the directory name manually will corrupt the job. See the documentation for advice on using these functions."
   ]
  },
  {
   "cell_type": "markdown",
   "metadata": {},
   "source": [
    "# Visualizing the data space"
   ]
  },
  {
   "cell_type": "markdown",
   "metadata": {},
   "source": [
    "The \"schema\" command prints out what statepoints are available:"
   ]
  },
  {
   "cell_type": "code",
   "execution_count": 9,
   "metadata": {},
   "outputs": [
    {
     "name": "stdout",
     "output_type": "stream",
     "text": [
      "{\n",
      " 'N': 'int([4, 5, 6, 7], 4)',\n",
      " 'replica': 'int([1, 2, 3], 3)',\n",
      "}\n"
     ]
    }
   ],
   "source": [
    "print(project.detect_schema())"
   ]
  },
  {
   "cell_type": "markdown",
   "metadata": {},
   "source": [
    "It can also be useful to visualize which data points have been run if you are doing a parameter sweep:"
   ]
  },
  {
   "cell_type": "markdown",
   "metadata": {},
   "source": [
    "And check which are done:"
   ]
  },
  {
   "cell_type": "code",
   "execution_count": 11,
   "metadata": {},
   "outputs": [
    {
     "data": {
      "text/plain": [
       "Text(0.5, 0, 'N')"
      ]
     },
     "execution_count": 11,
     "metadata": {},
     "output_type": "execute_result"
    },
    {
     "data": {
      "image/png": "[encoded data removed]",
      "text/plain": [
       "<Figure size 640x480 with 1 Axes>"
      ]
     },
     "metadata": {},
     "output_type": "display_data"
    }
   ],
   "source": [
    "ns=[]\n",
    "rs=[]\n",
    "for job in project:\n",
    "    if job.isfile('post_condition_file.txt'):\n",
    "        ns.append(job.sp.N)\n",
    "        rs.append(job.sp.replica)\n",
    "\n",
    "pp.scatter(ns,rs, s=200)\n",
    "pp.ylabel('Replica Index')\n",
    "pp.xlabel('N')"
   ]
  },
  {
   "cell_type": "markdown",
   "metadata": {},
   "source": [
    "# Find_jobs"
   ]
  },
  {
   "cell_type": "markdown",
   "metadata": {},
   "source": [
    "find_jobs is the most basic command for searching your project. You can input a partial statepoint, and it will output an iterable list of all the jobs that match that statepoint. Find_jobs is *unordered*, you cannot ensure that the jobs will be sorted in a specific way."
   ]
  },
  {
   "cell_type": "code",
   "execution_count": 12,
   "metadata": {},
   "outputs": [
    {
     "name": "stdout",
     "output_type": "stream",
     "text": [
      "125\n",
      "125\n",
      "125\n"
     ]
    }
   ],
   "source": [
    "for job in project.find_jobs({\"N\":5}):\n",
    "    total_particles = job.document['total_particles']\n",
    "    print(total_particles)"
   ]
  },
  {
   "cell_type": "markdown",
   "metadata": {},
   "source": [
    "You can also use specialized syntax to apply logic, e.g. all jobs with a statepoint greater than a certain value. Key options are lte (less than or equal to), lt (less than) and corresponding gte and gt."
   ]
  },
  {
   "cell_type": "code",
   "execution_count": 13,
   "metadata": {},
   "outputs": [
    {
     "name": "stdout",
     "output_type": "stream",
     "text": [
      "125\n",
      "343\n",
      "343\n",
      "216\n",
      "216\n",
      "125\n",
      "216\n",
      "125\n",
      "343\n"
     ]
    }
   ],
   "source": [
    "for job in project.find_jobs({\"N\":{'$gte':5}}):\n",
    "    total_particles = job.document['total_particles']\n",
    "    print(total_particles)"
   ]
  },
  {
   "cell_type": "markdown",
   "metadata": {},
   "source": [
    "# groupby"
   ]
  },
  {
   "cell_type": "markdown",
   "metadata": {},
   "source": [
    "GroupBy is one of the most useful commands for basic analysis. It sorts a statepoint internally (usually numerically, low to high) and outputs an iterable \"dictionary\" with the *key* it sorted by and the *value*, a list of jobs that correspond to that key.\n",
    "\n",
    "You can group by multiple parameters by inputting lists."
   ]
  },
  {
   "cell_type": "code",
   "execution_count": 14,
   "metadata": {},
   "outputs": [
    {
     "name": "stdout",
     "output_type": "stream",
     "text": [
      "N= 4 has  3  jobs.\n",
      "N= 5 has  3  jobs.\n",
      "N= 6 has  3  jobs.\n",
      "N= 7 has  3  jobs.\n"
     ]
    }
   ],
   "source": [
    "for key, value in project.groupby(\"N\"):\n",
    "        print(\"N=\",key, \"has \", len(list(value)),\" jobs.\")"
   ]
  },
  {
   "cell_type": "code",
   "execution_count": 23,
   "metadata": {},
   "outputs": [
    {
     "name": "stdout",
     "output_type": "stream",
     "text": [
      "N is  4 replica is  1\n",
      "N is  4 replica is  2\n",
      "N is  4 replica is  3\n",
      "N is  5 replica is  1\n",
      "N is  5 replica is  2\n",
      "N is  5 replica is  3\n",
      "N is  6 replica is  1\n",
      "N is  6 replica is  2\n",
      "N is  6 replica is  3\n",
      "N is  7 replica is  1\n",
      "N is  7 replica is  2\n",
      "N is  7 replica is  3\n"
     ]
    }
   ],
   "source": [
    "for key, joblist in project.groupby([\"N\",\"replica\"]):\n",
    "        print(\"N is \", key[0], \"replica is \", key[1])"
   ]
  },
  {
   "cell_type": "code",
   "execution_count": 16,
   "metadata": {},
   "outputs": [
    {
     "data": {
      "image/png": "[encoded data removed]",
      "text/plain": [
       "<Figure size 640x480 with 1 Axes>"
      ]
     },
     "metadata": {},
     "output_type": "display_data"
    }
   ],
   "source": [
    "for key, joblist in project.groupby(\"N\"):\n",
    "        number_particles = []\n",
    "        for job in joblist:\n",
    "            data = job.document['total_particles']\n",
    "            number_particles.append(data)\n",
    "        \n",
    "        mean_particles = np.mean(number_particles)\n",
    "        \n",
    "        pp.scatter([key], mean_particles)\n",
    "        pp.ylabel('Total Particles')\n",
    "        pp.xlabel('N')\n",
    "        \n",
    "        pp.title(str(key))"
   ]
  },
  {
   "cell_type": "markdown",
   "metadata": {},
   "source": [
    "# Making subsets of projects\n",
    "\n",
    "I find it useful to be able to make a subset of jobs and then group it. The object returned by find_jobs() has exactly the same properties as a project, so any sorting you apply to a project can also be applied to find_jobs. This lets you choose one or more statepoints to limit your project to, and then sort according to the remaining statepoints."
   ]
  },
  {
   "cell_type": "code",
   "execution_count": 17,
   "metadata": {},
   "outputs": [
    {
     "name": "stdout",
     "output_type": "stream",
     "text": [
      "{'N': 4, 'replica': 3}\n",
      "{'N': 5, 'replica': 3}\n",
      "{'N': 6, 'replica': 3}\n",
      "{'N': 7, 'replica': 3}\n"
     ]
    }
   ],
   "source": [
    "subset = project.find_jobs({\"replica\":3})\n",
    "\n",
    "for key, joblist in subset.groupby({\"N\"}):\n",
    "    for job in joblist:\n",
    "        print(job.sp)"
   ]
  },
  {
   "cell_type": "code",
   "execution_count": null,
   "metadata": {},
   "outputs": [],
   "source": []
  }
 ],
 "metadata": {
  "kernelspec": {
   "display_name": "Python 3 (ipykernel)",
   "language": "python",
   "name": "python3"
  },
  "language_info": {
   "codemirror_mode": {
    "name": "ipython",
    "version": 3
   },
   "file_extension": ".py",
   "mimetype": "text/x-python",
   "name": "python",
   "nbconvert_exporter": "python",
   "pygments_lexer": "ipython3",
   "version": "3.12.3"
  }
 },
 "nbformat": 4,
 "nbformat_minor": 4
}
