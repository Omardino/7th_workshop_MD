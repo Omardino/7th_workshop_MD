{
 "cells": [
  {
   "cell_type": "code",
   "execution_count": 6,
   "metadata": {},
   "outputs": [
    {
     "data": {
      "application/vnd.jupyter.widget-view+json": {
       "model_id": "0f4552044888433f890c7f5531db04c4",
       "version_major": 2,
       "version_minor": 0
      },
      "text/plain": []
     },
     "metadata": {},
     "output_type": "display_data"
    }
   ],
   "source": [
    "from openff.toolkit import Molecule, Topology, ForceField\n",
    "from openff.interchange import Interchange"
   ]
  },
  {
   "cell_type": "code",
   "execution_count": 35,
   "metadata": {},
   "outputs": [
    {
     "name": "stdout",
     "output_type": "stream",
     "text": [
      "[[0.4421643070641558 2.1253203160654532 -0.12163827038694287] [-0.24566094209545059 0.8994669147996079 -0.06867502677082368] [-1.6376146577327826 0.8665166856614634 -0.1128520719952269] [-2.3160418305433113 -0.3373637631291373 -0.06095298134116517] [-1.565362009455285 -1.4937107763282507 0.035451745149244485] [-0.19073877511085624 -1.4643989186733517 0.07928024374861571] [0.48365439241849373 -0.2626259030702902 0.027379492734441478] [1.9479313427456613 -0.21804992643644686 0.07326377925053157] [2.5890824075851167 0.8388766079811009 0.02924292879140602] [2.651881630655574 -1.4209806408775538 0.17097782039919449] [0.29546122951830983 2.8201089753044166 0.6382108578341174] [1.1004652813023843 2.3962574653381448 -0.8786059795929514] [-2.179291340832703 1.8147804886161323 -0.18946541078253418] [-3.400333657667819 -0.34579688250831353 -0.09642665582090501] [-2.061251997148322 -2.449227790126704 0.07802987789585838] [0.4249159076256674 -2.3591040352536514 0.1550361988137158] [3.660738711671094 -1.410068817362486 0.24174345207340237]] angstrom\n"
     ]
    }
   ],
   "source": [
    "test_molecule = Molecule.from_smiles(\"Nc1ccccc1C(=O)O\")\n",
    "test_molecule.visualize()\n",
    "test_molecule.generate_conformers(n_conformers=1)\n",
    "print(test_molecule.conformers[0])"
   ]
  },
  {
   "cell_type": "code",
   "execution_count": 20,
   "metadata": {},
   "outputs": [],
   "source": [
    "topology = Topology.from_molecules(test_molecule)\n",
    "sage = ForceField(\"openff-2.0.0.offxml\")\n",
    "interchange = Interchange.from_smirnoff(topology=[test_molecule], force_field=sage)\n",
    "interchange.minimize()"
   ]
  },
  {
   "cell_type": "code",
   "execution_count": 40,
   "metadata": {},
   "outputs": [
    {
     "name": "stdout",
     "output_type": "stream",
     "text": [
      "[[2 0 0] [0 2 0] [0 0 2]] nanometer\n"
     ]
    }
   ],
   "source": [
    "import openmm\n",
    "import openmm.unit\n",
    "interchange.box = [[2,0,0],[0,2,0],[0,0,2]]*openmm.unit.nanometer\n",
    "\n",
    "integrator = openmm.LangevinMiddleIntegrator(\n",
    "    293.15 * openmm.unit.kelvin,\n",
    "    1.0 / openmm.unit.picosecond,\n",
    "    2.0 * openmm.unit.femtosecond,\n",
    ")\n",
    "barostat = openmm.MonteCarloBarostat(\n",
    "    1.00 * openmm.unit.bar,\n",
    "    293.15 * openmm.unit.kelvin,\n",
    "    25,\n",
    ")\n",
    "simulation = interchange.to_openmm_simulation(\n",
    "    integrator=integrator,\n",
    "    additional_forces=[barostat]\n",
    ")\n",
    "\n",
    "interchange.to_top(\"test.top\")\n",
    "\n",
    "simulation.context.setVelocitiesToTemperature(300*openmm.unit.kelvin)\n",
    "dcd_reporter = openmm.app.DCDReporter(\"test.dcd\", 1000)\n",
    "state_data_reporter = openmm.app.StateDataReporter(\n",
    "    \"test.log\",\n",
    "    1000,\n",
    "    step=True,\n",
    "    potentialEnergy=True,\n",
    "    temperature=True,\n",
    "    density=True,\n",
    ")\n",
    "simulation.reporters.append(dcd_reporter)\n",
    "simulation.reporters.append(state_data_reporter)\n",
    "\n",
    "simulation.step(10000)"
   ]
  }
 ],
 "metadata": {
  "kernelspec": {
   "display_name": "openff",
   "language": "python",
   "name": "python3"
  },
  "language_info": {
   "codemirror_mode": {
    "name": "ipython",
    "version": 3
   },
   "file_extension": ".py",
   "mimetype": "text/x-python",
   "name": "python",
   "nbconvert_exporter": "python",
   "pygments_lexer": "ipython3",
   "version": "3.11.9"
  }
 },
 "nbformat": 4,
 "nbformat_minor": 2
}
