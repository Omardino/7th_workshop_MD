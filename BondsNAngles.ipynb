{
 "cells": [
  {
   "cell_type": "code",
   "execution_count": 1,
   "id": "564c5fc7",
   "metadata": {},
   "outputs": [
    {
     "name": "stderr",
     "output_type": "stream",
     "text": [
      "*Warning*: Simulation.seed is not set, using default seed=0\n",
      "*Warning*: Simulation.seed is not set, using default seed=0\n"
     ]
    }
   ],
   "source": [
    "import hoomd\n",
    "from hoomd.md import bond, angle\n",
    "import gsd\n",
    "import gsd.hoomd\n",
    "import numpy\n",
    "\n",
    "def run_one(k=500):\n",
    "    device = hoomd.device.CPU()\n",
    "    # device = hoomd.device.GPU()\n",
    "    simulation = hoomd.Simulation(device = device)\n",
    "\n",
    "    #initialize 3 atoms\n",
    "    N = 3\n",
    "    L = 5\n",
    "    frame = gsd.hoomd.Frame()\n",
    "    frame.configuration.box = [L, L, L, 0, 0, 0]\n",
    "\n",
    "    #make three particles\n",
    "    frame.particles.N = N\n",
    "    frame.particles.position = [[-.55,.55,0],[0,0,0],[.55,.55,0]]\n",
    "    frame.particles.mass = [1.0] * N\n",
    "    frame.particles.types = ['A']\n",
    "    frame.particles.typeID = [0] * N\n",
    "\n",
    "    #set two bonds\n",
    "    frame.bonds.N=2\n",
    "    frame.bonds.types = ['A-A']\n",
    "    frame.bonds.typeID = [0]*2\n",
    "    frame.bonds.group = numpy.array([[0,1],[1,2]])\n",
    "\n",
    "    #and an angle\n",
    "    frame.angles.N=1\n",
    "    frame.angles.types = ['A-A-A']\n",
    "    frame.angles.typeID = [0]\n",
    "    frame.angles.group = numpy.array([[0,1,2]])\n",
    "    \n",
    "    with gsd.hoomd.open(name='smol.gsd', mode='a') as f:\n",
    "        f.append(frame)\n",
    "    simulation.create_state_from_gsd(filename='smol.gsd')\n",
    "\n",
    "    harmonic = bond.Harmonic()\n",
    "    harmonic.params['A-A'] = dict(k=k, r0=1.5)\n",
    "    angles = angle.Harmonic()\n",
    "    angles.params['A-A-A'] = dict(k=600, t0=1.7)\n",
    "    kT = 1.\n",
    "    ends = hoomd.filter.Tags([0,2])\n",
    "    simulation.state.thermalize_particle_momenta(filter=ends, kT=kT)\n",
    "\n",
    "    integrator = hoomd.md.Integrator(dt = 0.005)\n",
    "    nvt = hoomd.md.methods.Langevin(kT = kT, filter = hoomd.filter.Tags([2]),default_gamma = 1.0)\n",
    "    integrator.methods.append(nvt)\n",
    "    simulation.operations.integrator = integrator\n",
    "    gsd_writer = hoomd.write.GSD(trigger=hoomd.trigger.Periodic(10), filename=\"traj.gsd\", mode='wb', filter=hoomd.filter.All())\n",
    "    simulation.operations.writers.append(gsd_writer)\n",
    "    simulation.run(1e4)\n",
    "\n",
    "run_one(5000)"
   ]
  },
  {
   "cell_type": "code",
   "execution_count": null,
   "id": "9e51b0bf",
   "metadata": {},
   "outputs": [],
   "source": []
  }
 ],
 "metadata": {
  "kernelspec": {
   "display_name": "icomse-cpu",
   "language": "python",
   "name": "icomse-cpu"
  },
  "language_info": {
   "codemirror_mode": {
    "name": "ipython",
    "version": 3
   },
   "file_extension": ".py",
   "mimetype": "text/x-python",
   "name": "python",
   "nbconvert_exporter": "python",
   "pygments_lexer": "ipython3",
   "version": "3.10.14"
  }
 },
 "nbformat": 4,
 "nbformat_minor": 5
}
