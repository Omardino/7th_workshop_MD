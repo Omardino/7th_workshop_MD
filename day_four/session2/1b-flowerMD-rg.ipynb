{
 "cells": [
  {
   "cell_type": "code",
   "execution_count": null,
   "id": "4057cf4c-2a5f-4350-95e8-25d943f71f61",
   "metadata": {},
   "outputs": [],
   "source": [
    "#Only needed for colab\n",
    "!pip install -q condacolab\n",
    "import condacolab\n",
    "condacolab.install()"
   ]
  },
  {
   "cell_type": "code",
   "execution_count": null,
   "id": "bafed280-ddc9-49cd-93c9-e2348ed24f7f",
   "metadata": {},
   "outputs": [],
   "source": [
    "#Only needed for colab\n",
    "import condacolab\n",
    "condacolab.check()\n"
   ]
  },
  {
   "cell_type": "code",
   "execution_count": null,
   "id": "1472c79e-8ac0-44b9-9861-9591e540fab6",
   "metadata": {},
   "outputs": [],
   "source": [
    "#only needed for colab\n",
    "!mamba install -c conda-forge \"hoomd=4.7.0\" vim openssh mbuild gsd ipython ipykernel mdanalysis foyer freud ipywidgets scipy numpy physical_validation matplotlib jupyter pandas flowermd nglview mdanalysis "
   ]
  },
  {
   "cell_type": "code",
   "execution_count": null,
   "id": "c1ef8ca2-d28f-440e-95f9-b7c70267275f",
   "metadata": {},
   "outputs": [],
   "source": [
    "import warnings\n",
    "warnings.filterwarnings(\"ignore\")\n",
    "\n",
    "# Imports\n",
    "from cmeutils.gsd_utils import get_molecule_cluster\n",
    "import freud\n",
    "import gsd.hoomd\n",
    "import hoomd\n",
    "import matplotlib.pyplot as plt\n",
    "import mbuild as mb\n",
    "import numpy as np\n",
    "\n",
    "# flowerMD: https://github.com/cmelab/flowerMD\n",
    "import flowermd\n",
    "from flowermd.base import System, Simulation\n",
    "from flowermd.library.polymers import PolyEthylene, LJChain\n",
    "from flowermd.library.forcefields import GAFF, BeadSpring"
   ]
  },
  {
   "cell_type": "code",
   "execution_count": null,
   "id": "bfe2e8c8-a0e3-4318-8117-62b144430391",
   "metadata": {},
   "outputs": [],
   "source": [
    "def radius_of_gyration(gsd_file, start=0, stop=-1, stride=1):\n",
    "    \"\"\"Calculates the radius of gyration of a molecule using Freud's cluster module.\n",
    "\n",
    "    Freud: https://freud.readthedocs.io/en/latest/\n",
    "\n",
    "    Notes\n",
    "    -----\n",
    "    This method is designed to create a time series of the radius of gyraiton measurement\n",
    "    of a single polymer chain simulation.\n",
    "\n",
    "    Parameters\n",
    "    ----------\n",
    "    gsd_file : str; required\n",
    "        Path to a gsd_file\n",
    "    start: int; optional; default 0\n",
    "        The frame index of the trajectory to begin with\n",
    "    stop: int; optional; default -1\n",
    "        The frame index of the trajectory to end with\n",
    "    stride: int, optional, default 1\n",
    "        The stride (i.e. spacing between samples) to use between start and stop\n",
    "\n",
    "    Returns\n",
    "    -------\n",
    "    rg_values : List of arrays of floats\n",
    "        Array of individual chain Rg values for each frame\n",
    "        \n",
    "    \"\"\"\n",
    "    trajectory = gsd.hoomd.open(gsd_file, mode=\"r\")\n",
    "    rg_values = []\n",
    "\n",
    "    for snap in trajectory[start:stop:stride]:\n",
    "        system = freud.AABBQuery.from_system(snap)\n",
    "        n_query_points = n_points = snap.particles.N\n",
    "        query_point_indices = snap.bonds.group[:, 0]\n",
    "        point_indices = snap.bonds.group[:, 1]\n",
    "        box = freud.box.Box(\n",
    "            snap.configuration.box[0],\n",
    "            snap.configuration.box[1],\n",
    "            snap.configuration.box[2],\n",
    "        )\n",
    "        vectors = box.wrap(\n",
    "            snap.particles.position[query_point_indices]\n",
    "            - snap.particles.position[point_indices]\n",
    "        )\n",
    "        nlist = freud.NeighborList.from_arrays(\n",
    "            num_query_points=n_query_points,\n",
    "            num_points=n_points,\n",
    "            query_point_indices=query_point_indices,\n",
    "            point_indices=point_indices,\n",
    "            vectors=vectors,\n",
    "        )\n",
    "        cluster = freud.cluster.Cluster()\n",
    "        cluster.compute(system=system, neighbors=nlist)\n",
    "        cl_props = freud.cluster.ClusterProperties()\n",
    "        cl_props.compute(system, cluster.cluster_idx)       \n",
    "        rg_values.append(cl_props.radii_of_gyration)\n",
    "    return rg_values\n",
    "\n",
    "\n",
    "class SingleChainSystem(System):\n",
    "    \"\"\"We'll make our own class in flowerMD which inherits from flowermd.base.System\n",
    "\n",
    "    This class is designed to make a box with edges equal to the polymer backbone length\n",
    "    and place the polymer chain in the center of the box.\n",
    "    \n",
    "    \"\"\"\n",
    "    def __init__(self, molecules, base_units=dict()):\n",
    "        super(SingleChainSystem, self).__init__(\n",
    "                molecules=molecules,\n",
    "                base_units=base_units\n",
    "        )\n",
    "\n",
    "    def _build_system(self):\n",
    "        chain = self.all_molecules[0]\n",
    "        head = chain.children[0]\n",
    "        tail = chain.children[-1]\n",
    "        chain_length = np.linalg.norm(tail.pos - head.pos)\n",
    "        box = mb.Box(lengths=np.array([chain_length] * 3) * 1.05)\n",
    "        comp = mb.Compound()\n",
    "        comp.add(chain)\n",
    "        comp.box = box\n",
    "        chain.translate_to((box.Lx / 2, box.Ly / 2, box.Lz / 2))\n",
    "        return comp"
   ]
  },
  {
   "cell_type": "markdown",
   "id": "aa130307-daf1-4622-8cf7-18a3c3de0394",
   "metadata": {},
   "source": [
    "# Running a single chain simulation in a vacuum (i.e. very low density)"
   ]
  },
  {
   "cell_type": "markdown",
   "id": "9eaa3642-792f-43ba-a5c6-8ce1908e1578",
   "metadata": {},
   "source": [
    "### Building the initial configuraiton and forces"
   ]
  },
  {
   "cell_type": "code",
   "execution_count": null,
   "id": "224de775-83d2-494c-bc03-29da8ab75f2d",
   "metadata": {},
   "outputs": [],
   "source": [
    "# Define the chain length for your single-chain simulation\n",
    "chain_length = 20 #For interactive demos, start between 15-30\n",
    "\n",
    "chains = LJChain(\n",
    "    num_mols=1,\n",
    "    lengths=chain_length,\n",
    "    bond_lengths={\"A-A\": 1.12}\n",
    ")\n",
    "single_chain_system = SingleChainSystem(molecules=chains)\n",
    "forces = BeadSpring(\n",
    "    r_cut=2.5,\n",
    "    beads={\"A\": dict(epsilon=1.0, sigma=1.0)},\n",
    "    bonds={\"A-A\": dict(k=200, r0=1.12)},\n",
    "    angles={\"A-A-A\": dict(k=100, t0=2.2)}\n",
    ")"
   ]
  },
  {
   "cell_type": "markdown",
   "id": "b64e2e78-9247-40bf-9368-14577f75c68a",
   "metadata": {},
   "source": [
    "### Running a simulation with our initial configuration and forces:"
   ]
  },
  {
   "cell_type": "code",
   "execution_count": null,
   "id": "8594b2dc-91f3-49eb-b2ab-c77c6a5a353f",
   "metadata": {},
   "outputs": [],
   "source": [
    "##### Define these parameters for your simulation ####\n",
    "n_steps = 1e6\n",
    "kT = 3.0\n",
    "\n",
    "gsd_write_frequency = n_steps // 100\n",
    "log_write_freqeuncy = n_steps // 100\n",
    "gsd_file_name = f\"{chain_length}chain_length.gsd\"\n",
    "log_file_name = f\"{chain_length}chain_length.txt\"\n",
    "\n",
    "sim = Simulation(\n",
    "    initial_state=single_chain_system.hoomd_snapshot,\n",
    "    forcefield=forces.hoomd_forces,\n",
    "    gsd_write_freq=gsd_write_frequency,\n",
    "    log_write_freq=log_write_freqeuncy,\n",
    "    gsd_file_name=gsd_file_name,\n",
    "    log_file_name=log_file_name,\n",
    "    dt=0.0008\n",
    ")"
   ]
  },
  {
   "cell_type": "code",
   "execution_count": null,
   "id": "45aaea72-ad95-43e0-a1e6-78ec2cee0863",
   "metadata": {
    "scrolled": true
   },
   "outputs": [],
   "source": [
    "sim.run_NVT(n_steps=n_steps, kT=kT, tau_kt=sim.dt * 100)\n",
    "sim.flush_writers()"
   ]
  },
  {
   "cell_type": "markdown",
   "id": "2afae689-0e2f-46b4-bafc-0857d8a1e19b",
   "metadata": {},
   "source": [
    "### Measuring the radius of gyration over a range of simulation snapshots"
   ]
  },
  {
   "cell_type": "code",
   "execution_count": null,
   "id": "c55ae8ac-a52c-48ac-a350-5e2aa07ecd2f",
   "metadata": {},
   "outputs": [],
   "source": [
    "rg_values = radius_of_gyration(gsd_file=gsd_file_name, start=-30, stop=-1, stride=2)"
   ]
  },
  {
   "cell_type": "code",
   "execution_count": null,
   "id": "557c1c25-1015-402f-ac73-df0ca8286bbb",
   "metadata": {},
   "outputs": [],
   "source": [
    "rg_avg = np.mean(rg_values)\n",
    "rg_error = np.std(rg_values)"
   ]
  },
  {
   "cell_type": "code",
   "execution_count": null,
   "id": "4567feed-4c51-4115-8f9c-ffaa90d2a501",
   "metadata": {},
   "outputs": [],
   "source": [
    "print(rg_avg, rg_error)"
   ]
  },
  {
   "cell_type": "markdown",
   "id": "6192d0be-3d34-485f-953e-978ae5364d55",
   "metadata": {},
   "source": [
    "# Running single chain simulations over several chain lengths"
   ]
  },
  {
   "cell_type": "markdown",
   "id": "f68f7d8d-bde0-4fc1-b59a-5ed8e21f037b",
   "metadata": {},
   "source": [
    "### We'll make a list of chain lengths and use a for loop to build a system and run a simulation for each length"
   ]
  },
  {
   "cell_type": "code",
   "execution_count": null,
   "id": "90e82e87-f5d9-475f-9ae0-596145fbaeb9",
   "metadata": {
    "scrolled": true
   },
   "outputs": [],
   "source": [
    "# Define your simulation parameters here\n",
    "\n",
    "n_steps = 1e6\n",
    "kT = 4.0\n",
    "num_frames = 500\n",
    "#chain_lengths = [25, 50, 75, 100, 150, 200, 300, 400]\n",
    "chain_lengths = [25, 50, 100, 200, 400]\n",
    "\n",
    "gsd_write_frequency = n_steps // num_frames\n",
    "log_write_freqeuncy = n_steps // num_frames\n",
    "\n",
    "for chain_length in chain_lengths:\n",
    "    print(f\"Starting a new simulation of chain length {chain_length}\")\n",
    "    print(\"==========================================================\")\n",
    "    chains = LJChain(\n",
    "        num_mols=1,\n",
    "        lengths=chain_length,\n",
    "        bond_lengths={\"A-A\": 1.12}\n",
    "    )\n",
    "    single_chain_system = SingleChainSystem(molecules=chains)\n",
    "    forces = BeadSpring(\n",
    "        r_cut=2.5,\n",
    "        beads={\"A\": dict(epsilon=1.0, sigma=1.0)},\n",
    "        bonds={\"A-A\": dict(k=200, r0=1.12)},\n",
    "        angles={\"A-A-A\": dict(k=100, t0=2.2)}\n",
    "    )\n",
    "\n",
    "    gsd_file_name = f\"{chain_length}chain_length.gsd\"\n",
    "    log_file_name = f\"{chain_length}chain_length.txt\"\n",
    "    \n",
    "    sim = Simulation(\n",
    "        initial_state=single_chain_system.hoomd_snapshot,\n",
    "        forcefield=forces.hoomd_forces,\n",
    "        gsd_write_freq=gsd_write_frequency,\n",
    "        log_write_freq=log_write_freqeuncy,\n",
    "        gsd_file_name=gsd_file_name,\n",
    "        log_file_name=log_file_name,\n",
    "        dt=0.0008\n",
    "    )\n",
    "    sim.run_NVT(n_steps=n_steps, kT=kT, tau_kt=sim.dt * 100)\n",
    "    sim.flush_writers()"
   ]
  },
  {
   "cell_type": "markdown",
   "id": "332ca157-1de2-4e8a-b92f-4d4fe259413b",
   "metadata": {},
   "source": [
    "### Plot the results for each chain length"
   ]
  },
  {
   "cell_type": "code",
   "execution_count": null,
   "id": "8ce1cc0c-4d2a-4ccb-95a3-f2860e6eba74",
   "metadata": {},
   "outputs": [],
   "source": [
    "fig = plt.figure()\n",
    "\n",
    "for chain_length in chain_lengths:\n",
    "    gsd_file_name = f\"{chain_length}chain_length.gsd\"\n",
    "    rg_values = radius_of_gyration(gsd_file=gsd_file_name, start=250, stop=-1, stride=3)\n",
    "    plt.errorbar(x=chain_length, y=np.mean(rg_values), yerr=np.std(rg_values), color=\"k\", marker=\"o\")\n",
    "\n",
    "plt.xlabel(\"N beads\")\n",
    "plt.ylabel(\"$R_g (\\sigma)$\")"
   ]
  },
  {
   "cell_type": "code",
   "execution_count": null,
   "id": "e2fcb15f-b8da-4750-8b2f-5c8ba28c8f8c",
   "metadata": {},
   "outputs": [],
   "source": []
  }
 ],
 "metadata": {
  "kernelspec": {
   "display_name": "Python 3 (ipykernel)",
   "language": "python",
   "name": "python3"
  },
  "language_info": {
   "codemirror_mode": {
    "name": "ipython",
    "version": 3
   },
   "file_extension": ".py",
   "mimetype": "text/x-python",
   "name": "python",
   "nbconvert_exporter": "python",
   "pygments_lexer": "ipython3",
   "version": "3.10.14"
  }
 },
 "nbformat": 4,
 "nbformat_minor": 5
}
