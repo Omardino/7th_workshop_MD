{
 "cells": [
  {
   "cell_type": "markdown",
   "id": "87d88260",
   "metadata": {},
   "source": [
    "# Day 1, Session 2, MD workshop\n",
    "### Dr. Michael Shirts, CU Boulder\n",
    "\n",
    "###  Simulating at constant *temperature* rather than constant energy\n"
   ]
  },
  {
   "cell_type": "markdown",
   "id": "dfc5f17e",
   "metadata": {},
   "source": [
    "Import some libraries:"
   ]
  },
  {
   "cell_type": "code",
   "execution_count": null,
   "id": "e5e28357",
   "metadata": {},
   "outputs": [],
   "source": [
    "import numpy as np\n",
    "import matplotlib.pyplot as plt"
   ]
  },
  {
   "cell_type": "markdown",
   "id": "d1b86ba8",
   "metadata": {},
   "source": [
    "Let's use a potential that has two wells, so we can see where it gets trapped."
   ]
  },
  {
   "cell_type": "code",
   "execution_count": null,
   "id": "50d20bd9",
   "metadata": {},
   "outputs": [],
   "source": [
    "# double well potential\n",
    "def potential(x):\n",
    "    pot = x**4 - 8*x**3 + 15*x**2\n",
    "    return pot\n",
    "\n",
    "def force(x):\n",
    "    f = -(4*x**3 - 24*x**2 + 30*x)\n",
    "    return f\n",
    "\n",
    "# minumum is at 4.2247, where pot = -16.946938"
   ]
  },
  {
   "cell_type": "code",
   "execution_count": null,
   "id": "eaeeacb4",
   "metadata": {},
   "outputs": [],
   "source": [
    "xlist = np.linspace(-2,6,1000)\n",
    "plt.plot(xlist,potential(xlist))\n",
    "plt.show()"
   ]
  },
  {
   "cell_type": "markdown",
   "id": "191ff52b",
   "metadata": {},
   "source": [
    "We want the system to reach thermal equilibrium at a given temperature $T$, which means that the kinetic energy will be at the Maxwell-Boltzmann distribution.\n",
    "\n",
    "First, we define a function generating a velocity from the Maxwell-Boltzmann distribution (in 1D)."
   ]
  },
  {
   "cell_type": "code",
   "execution_count": null,
   "id": "55e01a24",
   "metadata": {},
   "outputs": [],
   "source": [
    "k = 8.314 #  k in J/(K*mol)\n",
    "def mb_dist(m,T):\n",
    "    return np.sqrt(k*T/m)*np.random.normal()"
   ]
  },
  {
   "cell_type": "markdown",
   "id": "30f3e7c6",
   "metadata": {},
   "source": [
    "First, we will use the simple procedure of randomize the velocities every $N$ steps from the Maxwell-Boltzmann distribution.  This is known as the Andersen thermostat.\n",
    "\n",
    "**Question**: Why might we not want to randomize every step?"
   ]
  },
  {
   "cell_type": "code",
   "execution_count": null,
   "id": "36a92c48",
   "metadata": {},
   "outputs": [],
   "source": [
    "def velocity_verlet(x,v,force,m=1,dt=1):\n",
    "    # just the same as before    \n",
    "    '''\n",
    "    a function that executes one step of numerical integration\n",
    "    inputs:\n",
    "        x (current position)\n",
    "        v (current velocity)\n",
    "        f (a function that computes the force)\n",
    "        m = mass of particle\n",
    "        dt = time interval        \n",
    "    '''\n",
    "    \n",
    "    v_h = v + 0.5*dt*(force(x)/m)  # half a step in x\n",
    "    x = x + v_h*dt  # half a step in v\n",
    "    v = v_h + 0.5*dt*(force(x)/m)\n",
    "\n",
    "    return x,v"
   ]
  },
  {
   "cell_type": "code",
   "execution_count": null,
   "id": "b41fcbab",
   "metadata": {},
   "outputs": [],
   "source": [
    "def do_some_anderson(nsteps=100, m=1, dt=0.1, \n",
    "               init_x = 0, init_v=6, T=50, freq=100):\n",
    "    '''\n",
    "    inputs: \n",
    "        nsteps = number of steps\n",
    "        m = mass of particle\n",
    "        dt = timestep length\n",
    "        init_x, init_v = initial position and velocity\n",
    "        T = temperature \n",
    "        freq = frequency (in number of steps) to randomize velocity\n",
    "    output:\n",
    "        results dictionary\n",
    "    '''\n",
    "\n",
    "    # we need to declare arrays to store data\n",
    "    xs = np.zeros(nsteps)\n",
    "    vs = np.zeros(nsteps)\n",
    "    PEs = np.zeros(nsteps)\n",
    "    KEs = np.zeros(nsteps)\n",
    "    Es = np.zeros(nsteps)\n",
    "\n",
    "    x = init_x\n",
    "    v = init_v\n",
    "\n",
    "    for i in range(nsteps):\n",
    "        xnew,vnew = velocity_verlet(x,v,force,m=m,dt=dt)\n",
    "        if i%freq==0:\n",
    "            # randomize the particle velocity. This is the key point.\n",
    "            vnew = mb_dist(m,T)\n",
    "        x = xnew\n",
    "        v = vnew\n",
    "        xs[i] = x\n",
    "        vs[i] = v\n",
    "        vold = v\n",
    "        KEs[i] = 0.5*m*(0.5*(vs[i]+vold))**2\n",
    "        PEs[i] = potential(x)\n",
    "        Es[i] = PEs[i] + KEs[i]\n",
    "\n",
    "    results = dict()\n",
    "    results['x'] = xs\n",
    "    results['v'] = vs\n",
    "    results['KE'] = KEs\n",
    "    results['PE'] = PEs\n",
    "    results['Total_E'] = Es\n",
    "    \n",
    "    return results"
   ]
  },
  {
   "cell_type": "markdown",
   "id": "cfeb2b02",
   "metadata": {},
   "source": [
    "**Questions**:  \n",
    "\n",
    "1. What happens if you run with very low frequency (i.e. no randomizations within the time period)\n",
    "2. What happens if you run at higher frequency (randomizing every 100 steps)? \n",
    "3. What happens when you run at lower and higher temperatures?"
   ]
  },
  {
   "cell_type": "code",
   "execution_count": null,
   "id": "62e11257",
   "metadata": {},
   "outputs": [],
   "source": [
    "nsteps = 20000\n",
    "dt = 0.02\n",
    "T = 4\n",
    "\n",
    "results = do_some_anderson(nsteps=nsteps,init_v=2, dt=dt,T=T,freq=100)\n",
    "\n",
    "ts = dt*np.arange(nsteps)\n",
    "plt.plot(ts,results['x'],label='x')\n",
    "\n",
    "plt.legend()\n",
    "plt.show()\n",
    "\n",
    "plt.plot(ts,results['v'],label='v')\n",
    "plt.legend()\n",
    "plt.show()\n",
    "\n",
    "plt.plot(ts,results['PE'],label=\"potential\")\n",
    "plt.legend()\n",
    "plt.show()\n",
    "\n",
    "plt.plot(ts,results['KE'],label=\"kinetic\")\n",
    "plt.legend()\n",
    "plt.show()\n",
    "\n",
    "plt.plot(ts,results['Total_E'],label='total')\n",
    "plt.legend()\n",
    "plt.show()"
   ]
  },
  {
   "cell_type": "code",
   "execution_count": null,
   "id": "c2b005c8",
   "metadata": {},
   "outputs": [],
   "source": [
    "len(10*np.random.normal(size=len(ts)))"
   ]
  },
  {
   "cell_type": "markdown",
   "id": "d863f2c6",
   "metadata": {},
   "source": [
    "**Question**: How can we test if we are doing the right thing?  One thing we know is that if it is thermal equilibrium, then $\\langle KE \\rangle = n/2 k_B T$, where $n$ is the number of degrees of freedom (DOF).  How many degrees of freedom are there in this case? How can we check the temperature? "
   ]
  },
  {
   "cell_type": "markdown",
   "id": "1a2bb4c1",
   "metadata": {},
   "source": []
  },
  {
   "cell_type": "code",
   "execution_count": null,
   "id": "0fcdc186",
   "metadata": {},
   "outputs": [],
   "source": []
  },
  {
   "cell_type": "markdown",
   "id": "f6b1a814",
   "metadata": {},
   "source": [
    "We can also compute the free energy as a function of $x$, which because the system is just it's 1D, will also be the potential energy.  We can do this by computing $P(x)$, then finding $G(x) = -k_B T \\ln P(x) = U(x)$.  Note that one can only find the free energy surface up to a constant, so we have to rescale to find the minimum. "
   ]
  },
  {
   "cell_type": "code",
   "execution_count": null,
   "id": "191c56a5",
   "metadata": {},
   "outputs": [],
   "source": [
    "res = plt.hist(results['x'],bins=100)\n",
    "plt.show()\n",
    "\n",
    "bin_locs = 0.5*(res[1][1:]+res[1][:-1])\n",
    "Effective_U = -k*T*np.log(res[0])\n",
    "# shift it so it as the minimum at the same place\n",
    "Shift_U = Effective_U - (np.min(Effective_U)-potential(4.2247))\n",
    "plt.plot(bin_locs,Shift_U)\n",
    "plt.plot(bin_locs,potential(bin_locs))\n",
    "plt.ylim([-30,150])\n",
    "plt.show()"
   ]
  },
  {
   "cell_type": "markdown",
   "id": "801456c2",
   "metadata": {},
   "source": [
    "What if instead of rerandomizing the force to a Maxwell-Boltzman distribution discretely, we added a bit of random forces each step, and removed that extra force by friction?  This is the Langevin equation, and we can implement that within the velocity verlet framework. "
   ]
  },
  {
   "cell_type": "code",
   "execution_count": null,
   "id": "3ebb2286",
   "metadata": {},
   "outputs": [],
   "source": [
    "def langevin(x,v,force,m=1,dt=1,tau=10,T=50):\n",
    "\n",
    "    '''\n",
    "    Inputs are the current x and v, \n",
    "    the force function, the mass, the timstep, a \n",
    "    timescale tau for adding more energy in / sucking it out \n",
    "    (can be thought of as an inverse of a friction, \n",
    "    and the temperature.\n",
    "\n",
    "    '''\n",
    "    v_h = v+0.5*dt*(force(x)/m)  # half a step in x\n",
    "    x = x+0.5*v_h*dt  # half a step in v\n",
    "    sig = (1-np.exp(-2*dt/tau))\n",
    "    # sig = sqrt(J/kg) = m/s (units)\n",
    "    a = np.exp(-dt/tau)\n",
    "    b = np.sqrt(sig)\n",
    "    v_h = a*v_h + b*mb_dist(m,T)  # randomize v\n",
    "    x = x+0.5*v_h*dt # half a step in v\n",
    "    v = v_h + 0.5*dt*force(x)/m  # half a step in x\n",
    "    \n",
    "    return x,v"
   ]
  },
  {
   "cell_type": "markdown",
   "id": "da510e2c",
   "metadata": {},
   "source": [
    "**Exploration:** What happens at various temperatures with the Langevin integrator/thermostat?  How is similar to or different than the Langevin integrator/thermostat?"
   ]
  },
  {
   "cell_type": "code",
   "execution_count": null,
   "id": "869043b5",
   "metadata": {},
   "outputs": [],
   "source": []
  },
  {
   "cell_type": "code",
   "execution_count": null,
   "id": "869b83a1",
   "metadata": {},
   "outputs": [],
   "source": []
  },
  {
   "cell_type": "code",
   "execution_count": null,
   "id": "2f9151e0",
   "metadata": {},
   "outputs": [],
   "source": [
    "\n"
   ]
  },
  {
   "cell_type": "code",
   "execution_count": null,
   "id": "61d9a36b",
   "metadata": {},
   "outputs": [],
   "source": []
  }
 ],
 "metadata": {
  "kernelspec": {
   "display_name": "Python 3 (ipykernel)",
   "language": "python",
   "name": "python3"
  },
  "language_info": {
   "codemirror_mode": {
    "name": "ipython",
    "version": 3
   },
   "file_extension": ".py",
   "mimetype": "text/x-python",
   "name": "python",
   "nbconvert_exporter": "python",
   "pygments_lexer": "ipython3",
   "version": "3.10.5"
  }
 },
 "nbformat": 4,
 "nbformat_minor": 5
}
