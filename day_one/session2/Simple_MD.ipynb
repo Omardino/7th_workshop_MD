{
 "cells": [
  {
   "cell_type": "markdown",
   "id": "6ddbb14f",
   "metadata": {},
   "source": [
    "# Day 1, Session 2, MD workshop\n",
    "### Dr. Michael Shirts, CU Boulder\n",
    "\n",
    "## The simplest molecular dynamics you could do"
   ]
  },
  {
   "cell_type": "markdown",
   "id": "d10ae6cc",
   "metadata": {},
   "source": [
    "Import some libraries:"
   ]
  },
  {
   "cell_type": "code",
   "execution_count": null,
   "id": "e5e28357",
   "metadata": {},
   "outputs": [],
   "source": [
    "import numpy as np\n",
    "import matplotlib.pyplot as plt"
   ]
  },
  {
   "cell_type": "markdown",
   "id": "2a27b667",
   "metadata": {},
   "source": [
    "To keep it simple, let's start with a single particle in a 1D potential energy. We'll pick something a little more complicated than a harmonic well (there's some numerical weirdness with regards to 2nd order differential equations and harmonic wells), but almost as simple!"
   ]
  },
  {
   "cell_type": "code",
   "execution_count": null,
   "id": "683dbee6",
   "metadata": {},
   "outputs": [],
   "source": [
    "def potential(x):\n",
    "    pot = x**4\n",
    "    return pot\n",
    "\n",
    "def force(x):\n",
    "    f = -4*x**3  # -d/dx(U)\n",
    "    return f"
   ]
  },
  {
   "cell_type": "code",
   "execution_count": null,
   "id": "617411ff",
   "metadata": {},
   "outputs": [],
   "source": [
    "xvar = np.linspace(-4,4,1000)\n",
    "plt.plot(xvar,potential(xvar))\n",
    "plt.xlabel('position')\n",
    "plt.ylabel('energy')\n",
    "plt.show()"
   ]
  },
  {
   "cell_type": "markdown",
   "id": "477c0480",
   "metadata": {},
   "source": [
    "Let's brainstorm how to integrate the 2nd order differential equation:\n",
    "\n",
    "$ \\frac{\\partial^2 x}{\\partial t^2} = F(x) = -\\frac{\\partial U(x)}{\\partial x} $.\n",
    "\n",
    "The most direct approximation is using the Taylor series expansions in both $x$ and $v$.\n",
    "\n",
    "$$\n",
    "x(\\Delta t) \\approx x(t) + \\frac{dx}{dt}\\Delta t + \\frac{1}{2} \\frac{d^2x}{dt^2} \\Delta t^2 + \\mathcal{O}(\\Delta t^3) \\\\\n",
    "= x(t) + v(t)\\Delta t + \\frac{1}{2m} F(x) \\Delta t^2 \\mathcal{O}(\\Delta t^3)\n",
    "$$\n",
    "\n",
    "And for velocity:\n",
    "\n",
    "$$\n",
    "v(\\Delta t) \\approx v(t) + \\frac{dv}{dt}\\Delta t + \\mathcal{O}(\\Delta t^2) \\\\\n",
    "= v(t) + \\frac{1}{m} F(x) \\Delta + \\mathcal{O}(\\Delta t^2)  \n",
    "$$\n",
    "\n",
    "This is accurate to $\\mathcal{O}(\\Delta t^3)$ for $x$, and   $\\mathcal{O}(\\Delta t^2)$ for $v$, which means that as $\\Delta t$ decreases, the error in $x$ decreases proportional to $\\Delta t^3$,  and the error in $v$ decreases proprotional to $\\Delta t^2$."
   ]
  },
  {
   "cell_type": "code",
   "execution_count": null,
   "id": "51536b78",
   "metadata": {},
   "outputs": [],
   "source": [
    "def taylor(x,v,force,m=1,dt=1):\n",
    "\n",
    "    '''\n",
    "    a function that executes one step of numerical integration\n",
    "    inputs:\n",
    "        x (current position)\n",
    "        v (current velocity)\n",
    "        f (a function that computes the force)\n",
    "        m = mass of particle\n",
    "        dt = time interval        \n",
    "    '''\n",
    "    \n",
    "    fx = force(x)  \n",
    "\n",
    "    # saving the force as fx, I only need to call the force once; \n",
    "    # calling the force is the most expensive thing in simulations\n",
    "\n",
    "    x += v*dt+0.5*(fx/m)*dt**2\n",
    "    v += dt*fx/m\n",
    "    return x,v"
   ]
  },
  {
   "cell_type": "markdown",
   "id": "a503194a",
   "metadata": {},
   "source": [
    "We'll be doing this next function a few times, this, so let's call this `v1`."
   ]
  },
  {
   "cell_type": "code",
   "execution_count": null,
   "id": "f6d2c0e8",
   "metadata": {},
   "outputs": [],
   "source": [
    "def do_some_md_v1(nsteps=100, m=1, dt=0.1, \n",
    "               init_x = 0, init_v=5, algorithm='taylor'):\n",
    "\n",
    "    '''\n",
    "    inputs: \n",
    "        nsteps = number of steps to take\n",
    "        m = mass of the particle\n",
    "        dt = timestep\n",
    "        init_x = initial value of x\n",
    "        init_v = initial value of v\n",
    "        algorithm: the algorithm to use (just one for now)\n",
    "        \n",
    "    outputs: \n",
    "        a dictionary of the results over the nsteps\n",
    "        \n",
    "    '''\n",
    "    \n",
    "    # we want to store the trajectories\n",
    "    xs = np.zeros(nsteps)\n",
    "    vs = np.zeros(nsteps)\n",
    "    \n",
    "    # besides the trajectories, we are interested \n",
    "    # in the energy of the particle - potential, kinetic, and total\n",
    "    # as Newton's equations of motion conserve energy\n",
    "    \n",
    "    PEs = np.zeros(nsteps)\n",
    "    KEs = np.zeros(nsteps)\n",
    "    Es = np.zeros(nsteps)\n",
    "\n",
    "    # initialize the positions\n",
    "    x = init_x\n",
    "    v = init_v\n",
    "\n",
    "    # take a number of MD steps\n",
    "    \n",
    "    for i in range(nsteps):\n",
    "        if algorithm == 'taylor':\n",
    "            xnew,vnew = taylor(x,v,force,m=m,dt=dt)\n",
    "        x = xnew\n",
    "        v = vnew\n",
    "        \n",
    "        # store the current points in the trajectory\n",
    "        xs[i] = x\n",
    "        vs[i] = v\n",
    "        KEs[i] = 0.5*m*(vs[i]**2)  # kinetc energy = 1/2 mv^2\n",
    "        PEs[i] = potential(x)\n",
    "        Es[i] = PEs[i] + KEs[i]\n",
    "\n",
    "    # package up all of the results\n",
    "    results = dict()\n",
    "    results['x'] = xs\n",
    "    results['v'] = vs\n",
    "    results['KE'] = KEs\n",
    "    results['PE'] = PEs\n",
    "    results['Total_E'] = Es\n",
    "    \n",
    "    return results"
   ]
  },
  {
   "cell_type": "markdown",
   "id": "4dec9aaf",
   "metadata": {},
   "source": [
    "Now we are all set to run - lets do some molecular dynamics, and look at the results."
   ]
  },
  {
   "cell_type": "code",
   "execution_count": null,
   "id": "1d727208",
   "metadata": {},
   "outputs": [],
   "source": [
    "nsteps = 1000\n",
    "dt = 0.01\n",
    "results = do_some_md_v1(nsteps=nsteps,dt=dt,algorithm='taylor')"
   ]
  },
  {
   "cell_type": "markdown",
   "id": "82bfb612",
   "metadata": {},
   "source": [
    "Now, let's look at the trajectory - what do we expect to see?"
   ]
  },
  {
   "cell_type": "code",
   "execution_count": null,
   "id": "e1dfaad8",
   "metadata": {},
   "outputs": [],
   "source": [
    "ts = dt*np.arange(nsteps)\n",
    "plt.plot(ts,results['x'],label='x')\n",
    "plt.legend()\n",
    "plt.show()\n",
    "plt.plot(ts,results['v'],label='v')\n",
    "plt.legend()\n",
    "plt.show()"
   ]
  },
  {
   "cell_type": "markdown",
   "id": "37f14494",
   "metadata": {},
   "source": [
    "It's oscillating back and forth, though not quite sinusoidal, since it's a steep potential at the edges.  Though it looks like the particle is moving a bit more each time, which doesn't sound quite right.  Let's look at the energies over time."
   ]
  },
  {
   "cell_type": "code",
   "execution_count": null,
   "id": "7e90a954",
   "metadata": {},
   "outputs": [],
   "source": [
    "plt.plot(ts,results['PE'],label=\"potential\")\n",
    "plt.legend()\n",
    "plt.show()\n",
    "plt.plot(ts,results['KE'],label=\"kinetic\")\n",
    "plt.legend()\n",
    "plt.show()\n",
    "plt.plot(ts,results['Total_E'],label='total')\n",
    "plt.legend()\n",
    "plt.show()"
   ]
  },
  {
   "cell_type": "markdown",
   "id": "8fd1a9da",
   "metadata": {},
   "source": [
    "That certainly does not look like energy conservation?   What could we do?"
   ]
  },
  {
   "cell_type": "markdown",
   "id": "ce04535a",
   "metadata": {},
   "source": [
    "**Exploration**: See what happens to the trajectory and energy as you change:\n",
    "\n",
    "1. Mass\n",
    "2. Time step\n",
    "3. Potential (if you want to!)\n"
   ]
  },
  {
   "cell_type": "code",
   "execution_count": null,
   "id": "9e6cce32",
   "metadata": {},
   "outputs": [],
   "source": []
  },
  {
   "cell_type": "markdown",
   "id": "c7c97ff1",
   "metadata": {},
   "source": [
    "## Improved integration algorithms"
   ]
  },
  {
   "cell_type": "markdown",
   "id": "f12410c9",
   "metadata": {},
   "source": [
    "Let's try another algorithm, called velocity Verlet (the Verlet series of methods was developed by French physicist Loup Verlet, in 1967 - this particular variation was developed by Bill Swope in 1992 (who I collaborated on with my first big paper as a graduate student!). "
   ]
  },
  {
   "cell_type": "code",
   "execution_count": null,
   "id": "9d3f53fc",
   "metadata": {},
   "outputs": [],
   "source": [
    "def velocity_verlet(x,v,force,m=1,dt=1):\n",
    "\n",
    "    '''\n",
    "    a function that executes one step of numerical integration\n",
    "    inputs:\n",
    "        x (current position)\n",
    "        v (current velocity)\n",
    "        f (a function that computes the force)\n",
    "        m = mass of particle\n",
    "        dt = time interval        \n",
    "    '''\n",
    "    \n",
    "    # half-step of velocity\n",
    "    v_h = v + 0.5*dt*force(x)/m\n",
    "    # full step of position\n",
    "    x += v_h*dt\n",
    "    # half-step of velocity\n",
    "    v = v_h + 0.5*dt*force(x)/m\n",
    "    return x,v"
   ]
  },
  {
   "cell_type": "markdown",
   "id": "03aa5b7a",
   "metadata": {},
   "source": [
    "In this algorithm, I first calcuate the force at $x(t)$ to find the velocity at $v(t + \\Delta/2)$, calculate the change in position with this *halfway* velocity, then call the force at the NEW position.  So the velocity used to calculate the new position comes half from the force at $t$, and half from the force at $t+\\Delta t$.  \n",
    "\n",
    "It makes sense that this might would work a bit better, because we are calculating the change in $x$ between $x(t)$ and $x(t+\\Delta t)$ using the velocity halfway between them. "
   ]
  },
  {
   "cell_type": "code",
   "execution_count": null,
   "id": "422d4775",
   "metadata": {},
   "outputs": [],
   "source": [
    "def do_some_md_v2(nsteps=100, m=1, dt=0.1, \n",
    "               init_x = 0, init_v=6, algorithm='taylor'):\n",
    "\n",
    "    '''\n",
    "    inputs: \n",
    "        nsteps = number of steps to take\n",
    "        m = mass of the particle\n",
    "        dt = timestep\n",
    "        init_x = initial value of x\n",
    "        init_v = initial value of v\n",
    "        algorithm: the algorithm to use (just one for now)\n",
    "    '''\n",
    "\n",
    "    xs = np.zeros(nsteps)\n",
    "    vs = np.zeros(nsteps)\n",
    "    \n",
    "    PEs = np.zeros(nsteps)\n",
    "    KEs = np.zeros(nsteps)\n",
    "    Es = np.zeros(nsteps)\n",
    "\n",
    "    x = init_x\n",
    "    v = init_v\n",
    "\n",
    "    for i in range(nsteps):\n",
    "        if algorithm == 'taylor':\n",
    "            xnew,vnew = taylor(x,v,force,m=m,dt=dt)\n",
    "        elif algorithm == 'velocity_verlet':\n",
    "            xnew, vnew = velocity_verlet(x,v,force,m=m,dt=dt)\n",
    "        x = xnew\n",
    "        v = vnew\n",
    "        xs[i] = x\n",
    "        vs[i] = v\n",
    "        KEs[i] = 0.5*m*(vs[i]**2)\n",
    "        PEs[i] = potential(x)\n",
    "        Es[i] = PEs[i] + KEs[i]\n",
    "\n",
    "    results = dict()\n",
    "    results['x'] = xs\n",
    "    results['v'] = vs\n",
    "    results['KE'] = KEs\n",
    "    results['PE'] = PEs\n",
    "    results['Total_E'] = Es\n",
    "    \n",
    "    return results"
   ]
  },
  {
   "cell_type": "code",
   "execution_count": null,
   "id": "11a9d38f",
   "metadata": {},
   "outputs": [],
   "source": [
    "nsteps = 1000\n",
    "dt = 0.01\n",
    "\n",
    "results_t = do_some_md_v2(nsteps=nsteps,dt=dt,algorithm='taylor')\n",
    "results_vv = do_some_md_v2(nsteps=nsteps,dt=dt,algorithm='velocity_verlet')\n",
    "\n",
    "ts = dt*np.arange(nsteps)\n",
    "plt.plot(ts,results_t['x'],label='x_t')\n",
    "plt.plot(ts,results_vv['x'],label='x_vv')\n",
    "\n",
    "plt.legend()\n",
    "plt.show()\n",
    "plt.plot(ts,results_t['v'],label='v')\n",
    "plt.plot(ts,results_vv['v'],label='x_vv')\n",
    "plt.legend()\n",
    "plt.show()"
   ]
  },
  {
   "cell_type": "code",
   "execution_count": null,
   "id": "3005e5d7",
   "metadata": {},
   "outputs": [],
   "source": [
    "plt.plot(ts,results_t['PE'],label=\"potential_t\")\n",
    "plt.plot(ts,results_vv['PE'],label=\"potential_vv\")\n",
    "plt.legend()\n",
    "plt.show()\n",
    "\n",
    "plt.plot(ts,results_t['KE'],label=\"kinetic_t\")\n",
    "plt.plot(ts,results_vv['KE'],label=\"kinetic_vv\")\n",
    "plt.legend()\n",
    "plt.show()\n",
    "\n",
    "plt.plot(ts,results_t['Total_E'],label='total_t')\n",
    "plt.plot(ts,results_vv['Total_E'],label='total_vv')\n",
    "plt.legend()\n",
    "plt.show()"
   ]
  },
  {
   "cell_type": "markdown",
   "id": "9e330ec7",
   "metadata": {},
   "source": [
    "**Exploration**: What happens when use velocity Verlet for longer timescales, or use larger timesteps?"
   ]
  },
  {
   "cell_type": "code",
   "execution_count": null,
   "id": "d8b0d01c",
   "metadata": {},
   "outputs": [],
   "source": []
  },
  {
   "cell_type": "markdown",
   "id": "0fe3573a",
   "metadata": {},
   "source": [
    "This seems much better than our first test. Can we do even better?  \n",
    "Let's try an algorithm that theoretically is accurate to higher order.  This one requires keeping track of the force at a previous step."
   ]
  },
  {
   "cell_type": "code",
   "execution_count": null,
   "id": "66b048df",
   "metadata": {},
   "outputs": [],
   "source": [
    "def beeman(x,v,force,oldx,m=1,dt=1):\n",
    "    \n",
    "    '''\n",
    "    a function that executes one step of numerical integration\n",
    "    inputs:\n",
    "        x (current position)\n",
    "        v (current velocity)\n",
    "        f (a function that computes the force)\n",
    "        oldx (the previous position)\n",
    "        m = mass of particle\n",
    "        dt = time interval        \n",
    "    '''    \n",
    "    \n",
    "    amdt = force(oldx)/m  # force at t-dt\n",
    "    at = force(x)/m # force at t\n",
    "    x += v*dt + dt**2*(4*at-amdt)/6\n",
    "    apdt = force(x)/m # force at t+dt\n",
    "    v += dt*(5*apdt+8*at-amdt)/12\n",
    "    return x,v"
   ]
  },
  {
   "cell_type": "code",
   "execution_count": null,
   "id": "9e457fc6",
   "metadata": {},
   "outputs": [],
   "source": [
    "def do_some_md_v3(nsteps=100, m=1, dt=0.1, \n",
    "               init_x = 0, init_v=6, algorithm='taylor'):\n",
    "\n",
    "    '''\n",
    "    inputs: \n",
    "        nsteps = number of steps to take\n",
    "        m = mass of the particle\n",
    "        dt = timestep\n",
    "        init_x = initial value of x\n",
    "        init_v = initial value of v\n",
    "        algorithm: the algorithm to use\n",
    "    '''\n",
    "    xs = np.zeros(nsteps)\n",
    "    vs = np.zeros(nsteps)\n",
    "    PEs = np.zeros(nsteps)\n",
    "    KEs = np.zeros(nsteps)\n",
    "    Es = np.zeros(nsteps)\n",
    "\n",
    "    x = init_x\n",
    "    v = init_v\n",
    "\n",
    "    # for beeman\n",
    "    # estimate oldx to order O(dt^3)\n",
    "    oldx = x - dt*v-dt**2*force(x)/m\n",
    "        \n",
    "    for i in range(nsteps):\n",
    "        if algorithm == 'taylor':\n",
    "            xnew,vnew = taylor(x,v,force,m=m,dt=dt)\n",
    "        elif algorithm == 'velocity_verlet':\n",
    "            xnew, vnew = velocity_verlet(x,v,force,m=m,dt=dt)\n",
    "        elif algorithm == 'beeman':\n",
    "            xnew, vnew = beeman(x,v,force,oldx,m=m,dt=dt)\n",
    "        else:\n",
    "            print('No algorithm specified')    \n",
    "        oldx = x\n",
    "        x = xnew\n",
    "        v = vnew\n",
    "        xs[i] = x\n",
    "        vs[i] = v\n",
    "        KEs[i] = 0.5*m*(vs[i]**2)\n",
    "        PEs[i] = potential(x)\n",
    "        Es[i] = PEs[i] + KEs[i]\n",
    "\n",
    "    results = dict()\n",
    "    results['x'] = xs\n",
    "    results['v'] = vs\n",
    "    results['KE'] = KEs\n",
    "    results['PE'] = PEs\n",
    "    results['Total_E'] = Es\n",
    "    \n",
    "    return results"
   ]
  },
  {
   "cell_type": "markdown",
   "id": "60ad2f5f",
   "metadata": {},
   "source": [
    "At low numbers of steps, it works very similarly. But at high numbers of steps, it starts to fail. . ., i.e. energy is not conserved."
   ]
  },
  {
   "cell_type": "code",
   "execution_count": null,
   "id": "58d3377b",
   "metadata": {},
   "outputs": [],
   "source": [
    "nsteps = 100\n",
    "dt = 0.03\n",
    "\n",
    "results_t = do_some_md_v3(nsteps=nsteps,dt=dt,algorithm='taylor')\n",
    "results_vv = do_some_md_v3(nsteps=nsteps,dt=dt,algorithm='velocity_verlet')\n",
    "results_b = do_some_md_v3(nsteps=nsteps,dt=dt,algorithm='beeman')\n",
    "\n",
    "ts = dt*np.arange(nsteps)\n",
    "plt.plot(ts,results_t['x'],label='x_t')\n",
    "plt.plot(ts,results_vv['x'],label='x_vv')\n",
    "plt.plot(ts,results_b['x'],label='x_b')\n",
    "\n",
    "plt.legend()\n",
    "plt.show()\n",
    "plt.plot(ts,results_t['v'],label='v_t')\n",
    "plt.plot(ts,results_vv['v'],label='v_vv')\n",
    "plt.plot(ts,results_b['v'],label='v_b')\n",
    "plt.legend()\n",
    "plt.show()\n",
    "\n",
    "plt.plot(ts,results_t['PE'],label=\"potential_t\")\n",
    "plt.plot(ts,results_vv['PE'],label=\"potential_vv\")\n",
    "plt.plot(ts,results_b['PE'],label=\"potential_b\")\n",
    "plt.legend()\n",
    "plt.show()\n",
    "\n",
    "plt.plot(ts,results_t['KE'],label=\"kinetic_t\")\n",
    "plt.plot(ts,results_vv['KE'],label=\"kinetic_vv\")\n",
    "plt.plot(ts,results_b['KE'],label=\"kinetic_b\")\n",
    "plt.legend()\n",
    "plt.show()\n",
    "\n",
    "plt.plot(ts,results_t['Total_E'],label='total_t')\n",
    "plt.plot(ts,results_vv['Total_E'],label='total_vv')\n",
    "plt.plot(ts,results_b['Total_E'],label='total_b')\n",
    "plt.legend()\n",
    "plt.show()\n"
   ]
  },
  {
   "cell_type": "markdown",
   "id": "508b65c6",
   "metadata": {},
   "source": [
    "Although Beeman is good for short timescales (and for sufficiently short timescales, it can be shown to be more accurate than velocity verlet), for long timescales, it still drifts."
   ]
  },
  {
   "cell_type": "markdown",
   "id": "00e62dec",
   "metadata": {},
   "source": [
    "One reason is that the Verlet algorithm is what is called a *symplectic* algorithm.  We won't go into all the reasons of what symplectic means, though one key property of symplectic agorithms is that they conserve phase space, even if they have discrete timesteps, which is a property that the original Newton's equations of motion also have, and are are time-reversible, which Newton's equations also are. Beeman's algorithm is not symplectic, and does not conserve phase space, and is not time-reversible\n",
    "\n",
    "Symplectic algorithms have something called a *shadow Hamilonian*. This means that these discrete algorithms exactly conserve a quantity that is close to, not not exactly, the true Hamiltonian.  the larger the timestep gets, the further this quantity gets from the shadow quantity.  The difference between the shadow Hamiltonian and the true Hamiltonian (if we have infinitely small time steps), $\\tilde{H} - H$, is proportional to $\\Delta t^2$ for the Verlet algorithms.\n",
    "\n",
    "Verlet algorithms are thus really useful, and essentially all current MD programs use Verlet algorithms accurate to $\\mathcal{O}(\\Delta t^2)$, either velocity Verlet or some other version.\n",
    "\n",
    "There are symplectic algorthims that are higher order, but they require more force evaluation per step.  But they do not scale well; if they require 2x as many force evaluations per step, you can take steps sizes that are less than 2x as long, so the total computational time per force evaluation is not as good."
   ]
  },
  {
   "cell_type": "markdown",
   "id": "41c01956",
   "metadata": {},
   "source": [
    "We note that velocity Verlet still requires 2 calls per timestep.  Is there a way to get around this requirement? \n",
    "\n",
    "Hmm, the force we calculate at the END of the last step is the same as the first timestep.  Can we just do some bookkeeping, and smush those steps together? "
   ]
  },
  {
   "cell_type": "code",
   "execution_count": null,
   "id": "acda1c72",
   "metadata": {},
   "outputs": [],
   "source": [
    "def leapfrog_verlet(x,v,force,m=1,dt=1):\n",
    "    \n",
    "    '''\n",
    "    a function that executes one step of numerical integration\n",
    "    inputs:\n",
    "        x (current position)\n",
    "        v (current velocity)\n",
    "        f (a function that computes the force)\n",
    "        m = mass of particle\n",
    "        dt = time interval        \n",
    "    '''    \n",
    "        \n",
    "    x += v*dt\n",
    "    v += dt*force(x)/m\n",
    "    \n",
    "    return x,v"
   ]
  },
  {
   "cell_type": "markdown",
   "id": "122cc4fa",
   "metadata": {},
   "source": [
    "Then what we get at each iteration of the algorithm is the position at each timestep, and the velocity offset by 1/2 a timestep.  The velocities are leapfrogging the positions, rather than being in sync with them."
   ]
  },
  {
   "cell_type": "markdown",
   "id": "df7ac026",
   "metadata": {},
   "source": [
    "Let's try it!"
   ]
  },
  {
   "cell_type": "code",
   "execution_count": null,
   "id": "6cd64ea9",
   "metadata": {},
   "outputs": [],
   "source": [
    "def do_some_md_v4(nsteps=100, m=1, dt=0.1, \n",
    "               init_x = 0, init_v=6, algorithm='taylor'):\n",
    "\n",
    "    '''\n",
    "    a function that executes one step of numerical integration\n",
    "    inputs:\n",
    "        x (current position)\n",
    "        v (current velocity)\n",
    "        f (a function that computes the force)\n",
    "        m = mass of particle\n",
    "        dt = time interval        \n",
    "    '''   \n",
    "    \n",
    "    xs = np.zeros(nsteps)\n",
    "    vs = np.zeros(nsteps)\n",
    "    PEs = np.zeros(nsteps)\n",
    "    KEs = np.zeros(nsteps)\n",
    "    Es = np.zeros(nsteps)\n",
    "\n",
    "    x = init_x\n",
    "    v = init_v\n",
    "\n",
    "    # for beeman\n",
    "    # estimate oldx to order O(dt^3)\n",
    "    oldx = x - dt*v-dt**2*force(x)/m\n",
    "        \n",
    "    for i in range(nsteps):\n",
    "        if algorithm == 'taylor':\n",
    "            xnew,vnew = taylor(x,v,force,m=m,dt=dt)\n",
    "        elif algorithm == 'velocity_verlet':\n",
    "            xnew, vnew = velocity_verlet(x,v,force,m=m,dt=dt)\n",
    "        elif algorithm == 'leapfrog_verlet':\n",
    "            xnew, vnew = leapfrog_verlet(x,v,force,m=m,dt=dt)\n",
    "        elif algorithm == 'beeman':\n",
    "            xnew, vnew = beeman(x,v,force,oldx,m=m,dt=dt)\n",
    "        else:\n",
    "            print('No algorithm specified')    \n",
    "        oldx = x\n",
    "        x = xnew\n",
    "        v = vnew\n",
    "        xs[i] = x\n",
    "        vs[i] = v\n",
    "        KEs[i] = 0.5*m*(vs[i]**2)\n",
    "        PEs[i] = potential(x)\n",
    "        Es[i] = PEs[i] + KEs[i]\n",
    "\n",
    "    results = dict()\n",
    "    results['x'] = xs\n",
    "    results['v'] = vs\n",
    "    results['KE'] = KEs\n",
    "    results['PE'] = PEs\n",
    "    results['Total_E'] = Es\n",
    "    \n",
    "    return results"
   ]
  },
  {
   "cell_type": "code",
   "execution_count": null,
   "id": "8eeb0530",
   "metadata": {},
   "outputs": [],
   "source": [
    "nsteps = 1000\n",
    "dt = 0.01\n",
    "\n",
    "results_vv = do_some_md_v4(nsteps=nsteps,dt=dt,algorithm='velocity_verlet')\n",
    "results_lv = do_some_md_v4(nsteps=nsteps,dt=dt,algorithm='leapfrog_verlet')\n",
    "\n",
    "\n",
    "ts = dt*np.arange(nsteps)\n",
    "plt.plot(ts,results_vv['x'],label='x_vv')\n",
    "plt.plot(ts,results_lv['x'],label='x_lv')\n",
    "\n",
    "plt.legend()\n",
    "plt.show()\n",
    "\n",
    "plt.plot(ts,results_vv['v'],label='v_vv')\n",
    "plt.plot(ts,results_lv['v'],label='v_lv')\n",
    "plt.legend()\n",
    "plt.show()\n",
    "\n",
    "plt.plot(ts,results_vv['PE'],label=\"potential_vv\")\n",
    "plt.plot(ts,results_lv['PE'],label=\"potential_lv\")\n",
    "plt.legend()\n",
    "plt.show()\n",
    "\n",
    "plt.plot(ts,results_vv['KE'],label=\"kinetic_vv\")\n",
    "plt.plot(ts,results_lv['KE'],label=\"kinetic_lv\")\n",
    "plt.legend()\n",
    "plt.show()\n",
    "\n",
    "plt.plot(ts,results_vv['Total_E'],label='total_vv')\n",
    "plt.plot(ts,results_lv['Total_E'],label='total_lv')\n",
    "plt.legend()\n",
    "plt.show()"
   ]
  },
  {
   "cell_type": "markdown",
   "id": "1681036a",
   "metadata": {},
   "source": []
  },
  {
   "cell_type": "markdown",
   "id": "4391f024",
   "metadata": {},
   "source": [
    "Now, the trajectory looks similar, but the conserved energy is off a little.  Why? \n",
    "\n",
    "**Question**: What am I calculating wrong? "
   ]
  },
  {
   "cell_type": "markdown",
   "id": "414f03f8",
   "metadata": {},
   "source": []
  },
  {
   "cell_type": "code",
   "execution_count": null,
   "id": "60acee2d",
   "metadata": {},
   "outputs": [],
   "source": []
  },
  {
   "cell_type": "code",
   "execution_count": null,
   "id": "5843451c",
   "metadata": {},
   "outputs": [],
   "source": []
  },
  {
   "cell_type": "code",
   "execution_count": null,
   "id": "5714bd35",
   "metadata": {},
   "outputs": [],
   "source": []
  },
  {
   "cell_type": "markdown",
   "id": "2699841c",
   "metadata": {},
   "source": [
    "Now try running with a more complicated potential:"
   ]
  },
  {
   "cell_type": "code",
   "execution_count": null,
   "id": "50d20bd9",
   "metadata": {},
   "outputs": [],
   "source": [
    "# double well potential\n",
    "def potential(x):\n",
    "    pot = x**4 - 8*x**3 + 15*x**2\n",
    "    return pot\n",
    "\n",
    "def force(x):\n",
    "    f = -(4*x**3 - 24*x**2 + 30*x)\n",
    "    return f"
   ]
  },
  {
   "cell_type": "code",
   "execution_count": null,
   "id": "eaeeacb4",
   "metadata": {},
   "outputs": [],
   "source": [
    "xlist = np.linspace(-2,6,1000)\n",
    "plt.plot(xlist,potential(xlist))\n",
    "plt.show()"
   ]
  },
  {
   "cell_type": "code",
   "execution_count": null,
   "id": "826a18a7",
   "metadata": {},
   "outputs": [],
   "source": []
  },
  {
   "cell_type": "markdown",
   "id": "9ebba15a",
   "metadata": {},
   "source": [
    "**Question**: We have seen that the fluctuations around average change get smaller as the timestep decreases.  How does the RMSD of the total energy change with timestep, given a fixed total simulation time?"
   ]
  },
  {
   "cell_type": "markdown",
   "id": "ab6838af",
   "metadata": {},
   "source": [
    "**Answer**:"
   ]
  },
  {
   "cell_type": "code",
   "execution_count": null,
   "id": "dfb9754b",
   "metadata": {},
   "outputs": [],
   "source": [
    "nsteps = [1000,2000,4000,8000,16000,32000,64000]\n",
    "dts    = [ 0.08 ,0.04,0.02,0.01,0.005,0.0025,0.00125]\n",
    "\n",
    "RMSDs = list()\n",
    "aves = list()\n",
    "for n,dt in zip(nsteps,dts):\n",
    "    results = do_some_md_v5(nsteps=n,dt=dt,algorithm='velocity_verlet')\n",
    "    ave = np.mean(results['Total_E'])\n",
    "    RMSDs.append(np.sqrt(np.mean((results['Total_E']-ave)**2)))\n",
    "    aves.append(ave)\n",
    "    ts = dt*np.arange(n)\n",
    "    plt.plot(ts,results['Total_E'], label='total E ave')\n",
    "    plt.show()\n",
    "\n",
    "plt.plot(dts, aves, label='aves')\n",
    "plt.legend()\n",
    "plt.show()\n",
    "\n",
    "plt.plot(dts, RMSDs, label='RMSD')\n",
    "plt.legend()\n",
    "plt.show()\n",
    "\n",
    "for i in range(len(dts)-1):\n",
    "    print(RMSDs[i]/RMSDs[i+1])\n"
   ]
  },
  {
   "cell_type": "markdown",
   "id": "6355dca3",
   "metadata": {},
   "source": []
  },
  {
   "cell_type": "markdown",
   "id": "6356d74e",
   "metadata": {},
   "source": [
    "**Question**: What happens as the timestep gets too big? How big does it get before it starts to drift?  Try it with the quadratic potential."
   ]
  },
  {
   "cell_type": "code",
   "execution_count": null,
   "id": "e33e8d4e",
   "metadata": {},
   "outputs": [],
   "source": []
  },
  {
   "cell_type": "markdown",
   "id": "ec1288e4",
   "metadata": {},
   "source": [
    "\n",
    "### Stiffness in integrators\n",
    "\n",
    "Let's try the problem with a higher power, steeper, potential. What happens when you run with increasingly longer timesteps?"
   ]
  },
  {
   "cell_type": "code",
   "execution_count": null,
   "id": "86803222",
   "metadata": {},
   "outputs": [],
   "source": [
    "def potential(x):\n",
    "    pot = x**16\n",
    "    return pot\n",
    "\n",
    "def force(x):\n",
    "    f = -16*x**15  # -d/dx(U)\n",
    "    return f"
   ]
  },
  {
   "cell_type": "code",
   "execution_count": null,
   "id": "82a74b83",
   "metadata": {},
   "outputs": [],
   "source": []
  },
  {
   "cell_type": "markdown",
   "id": "e3b83f7b",
   "metadata": {},
   "source": []
  }
 ],
 "metadata": {
  "kernelspec": {
   "display_name": "Python 3 (ipykernel)",
   "language": "python",
   "name": "python3"
  },
  "language_info": {
   "codemirror_mode": {
    "name": "ipython",
    "version": 3
   },
   "file_extension": ".py",
   "mimetype": "text/x-python",
   "name": "python",
   "nbconvert_exporter": "python",
   "pygments_lexer": "ipython3",
   "version": "3.10.5"
  }
 },
 "nbformat": 4,
 "nbformat_minor": 5
}
